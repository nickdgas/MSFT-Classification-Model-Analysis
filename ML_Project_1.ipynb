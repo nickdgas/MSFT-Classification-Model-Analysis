{
 "cells": [
  {
   "cell_type": "markdown",
   "metadata": {},
   "source": [
    "<h1 align=\"left\">Project One - MSFT</h1>\n",
    "<!-- TABLE OF CONTENTS -->\n",
    "<details>\n",
    "  <summary>Table of Contents</summary>\n",
    "  <ol>\n",
    "    <li><a href=\"#import-modules\">Import Modules</a></li>\n",
    "    <li><a href=\"#data-preparation\">Data Preparation</a></li>\n",
    "    <!-- <li><a href=\"#classifiers\">Classifiers</a></li> -->\n",
    "    <li>\n",
    "      <a href=\"#strategies\">Strategies</a>\n",
    "      <ul>\n",
    "        <li><a href=\"#hypertuning\">Hypertuning</a></li>\n",
    "        <li><a href=\"#k-nearest-neighbors\">K-Nearest Neighbors</a></li>\n",
    "        <li><a href=\"#random-forest\">Random Forest</a></li>\n",
    "        <li><a href=\"#gradient-boosting\">Gradient Boosting</a></li>\n",
    "        <li><a href=\"#support-vector-machines\">Support Vector Machines</a></li>\n",
    "      </ul>\n",
    "    </li>\n",
    "  </ol>\n",
    "</details>"
   ]
  },
  {
   "cell_type": "markdown",
   "metadata": {},
   "source": [
    "## Import Modules\n",
    "Required imports to perform all operations successfully."
   ]
  },
  {
   "cell_type": "code",
   "execution_count": 362,
   "metadata": {},
   "outputs": [],
   "source": [
    "import warnings\n",
    "import pandas as pd\n",
    "import numpy as np \n",
    "import yfinance as yf \n",
    "import matplotlib as mpl\n",
    "import matplotlib.pyplot as plt\n",
    "import seaborn as sns\n",
    "from sklearn.model_selection import train_test_split\n",
    "from sklearn.metrics import classification_report\n",
    "from sklearn.metrics import confusion_matrix\n",
    "from skopt import BayesSearchCV \n",
    "from sklearn.metrics import ConfusionMatrixDisplay\n",
    "from sklearn.neighbors import KNeighborsClassifier as knn\n",
    "from sklearn.ensemble import RandomForestClassifier as rf\n",
    "from sklearn.ensemble import GradientBoostingClassifier as gb\n",
    "from sklearn.svm import SVC as svm\n",
    "from xgboost import XGBClassifier as xgb"
   ]
  },
  {
   "cell_type": "markdown",
   "metadata": {},
   "source": [
    "## Data Preparation\n",
    "Pre-process and clean the data.\n",
    "- Check for the following:\n",
    "    - missing values\n",
    "    - duplicate rows\n",
    "    - abnormal data types (not float or int)\n",
    "    - etc.\n",
    "\n",
    "Display historical data and calculated moving averages. \n",
    "- 50-Day moving average\n",
    "- 200-Day moving average\n"
   ]
  },
  {
   "cell_type": "code",
   "execution_count": 363,
   "metadata": {},
   "outputs": [],
   "source": [
    "def download_stock_data(symbol: str, start_date: str, end_date: str) -> pd.DataFrame:\n",
    "    \"\"\"\n",
    "    Download closing price data for MSFT within the specified date range.\n",
    "    \"\"\"\n",
    "    try:\n",
    "        warnings.simplefilter(action=\"ignore\", category=FutureWarning)\n",
    "        df = yf.download(symbol, start=start_date, end=end_date)\n",
    "        return df\n",
    "    except Exception as e:\n",
    "        print(f'Error occurred when downloading: {e}')\n",
    "        return None\n",
    "\n",
    "def check_data(df: pd.DataFrame) -> None:\n",
    "    \"\"\"\n",
    "    Identifies outliers within the data needed to be cleaned or addressed. \n",
    "    \"\"\"\n",
    "    if df is not None:\n",
    "        print('Checking for missing values...')\n",
    "        if df.isnull().sum().sum() == 0:\n",
    "            print('No missing values found.', '\\n')\n",
    "        else:\n",
    "            print(df.isnull().sum(), '\\n')\n",
    "\n",
    "        print('Checking for duplicate rows...')\n",
    "        if df.duplicated().sum() == 0:\n",
    "            print('No duplicate rows found.', '\\n')\n",
    "        else:\n",
    "            print(df.duplicated().sum(), '\\n')\n",
    "\n",
    "        print('Checking data types...')\n",
    "        if all(dtypes == float or dtypes == int for dtypes in df.dtypes):\n",
    "            print('No abnormal data types found.', '\\n')\n",
    "        else:\n",
    "            print(df.dtypes, '\\n')\n",
    "\n",
    "        print('Generating summary statistics...')\n",
    "        display(df.describe())\n",
    "    else:\n",
    "        raise Exception('Error: No data available')\n",
    "    \n",
    "def calculate_moving_averages(df: pd.DataFrame) -> pd.DataFrame:\n",
    "    \"\"\"\n",
    "    Calculate the 50-day and 200-day moving averages for the given DataFrame.\n",
    "    **Note: min_periods will eliminate nan values; however, tradeoffs do exist.\n",
    "    \"\"\"\n",
    "    if df is not None:\n",
    "        ma_50 = df['Adj Close'].rolling(window=50, min_periods=1).mean()\n",
    "        ma_200 = df['Adj Close'].rolling(window=200, min_periods=1).mean()\n",
    "        df['50-Day Moving Avg'] = ma_50\n",
    "        df['200-Day Moving Avg'] = ma_200\n",
    "        return df\n",
    "    else:\n",
    "        raise Exception('Error: No data available')\n",
    "\n",
    "def plot_data(df: pd.DataFrame, adj: pd.Series, ma_50: pd.Series, ma_200: pd.Series, title: str) -> None:\n",
    "    \"\"\"\n",
    "    Plot historical prices and rolling stats.\n",
    "    \"\"\"\n",
    "    if df is not None:\n",
    "        print('Plotting MSFT data...')\n",
    "        mpl.rc('xtick', labelsize=8)\n",
    "        mpl.rc('ytick', labelsize=8)\n",
    "        plt.figure(figsize=(10, 6))\n",
    "        # plt.plot(df.index, open, label='Open')\n",
    "        # plt.plot(df.index, high, label='High')\n",
    "        # plt.plot(df.index, low, label='Low')\n",
    "        # plt.plot(df.index, close, label='Close')\n",
    "        plt.plot(df.index, adj, label='Adj Close')\n",
    "        plt.plot(df.index, ma_50, label='50-Day Moving Avg')\n",
    "        plt.plot(df.index, ma_200, label='200-Day Moving Avg')\n",
    "        plt.title(title)\n",
    "        plt.legend()\n",
    "        plt.show()\n",
    "    else:\n",
    "        raise Exception('Error: No data available')"
   ]
  },
  {
   "cell_type": "code",
   "execution_count": 364,
   "metadata": {},
   "outputs": [
    {
     "name": "stdout",
     "output_type": "stream",
     "text": [
      "[*********************100%***********************]  1 of 1 completed\n"
     ]
    },
    {
     "data": {
      "text/html": [
       "<div>\n",
       "<style scoped>\n",
       "    .dataframe tbody tr th:only-of-type {\n",
       "        vertical-align: middle;\n",
       "    }\n",
       "\n",
       "    .dataframe tbody tr th {\n",
       "        vertical-align: top;\n",
       "    }\n",
       "\n",
       "    .dataframe thead th {\n",
       "        text-align: right;\n",
       "    }\n",
       "</style>\n",
       "<table border=\"1\" class=\"dataframe\">\n",
       "  <thead>\n",
       "    <tr style=\"text-align: right;\">\n",
       "      <th></th>\n",
       "      <th>Open</th>\n",
       "      <th>High</th>\n",
       "      <th>Low</th>\n",
       "      <th>Close</th>\n",
       "      <th>Adj Close</th>\n",
       "      <th>50-Day Moving Avg</th>\n",
       "      <th>200-Day Moving Avg</th>\n",
       "    </tr>\n",
       "    <tr>\n",
       "      <th>Date</th>\n",
       "      <th></th>\n",
       "      <th></th>\n",
       "      <th></th>\n",
       "      <th></th>\n",
       "      <th></th>\n",
       "      <th></th>\n",
       "      <th></th>\n",
       "    </tr>\n",
       "  </thead>\n",
       "  <tbody>\n",
       "    <tr>\n",
       "      <th>2015-01-02</th>\n",
       "      <td>46.660000</td>\n",
       "      <td>47.419998</td>\n",
       "      <td>46.540001</td>\n",
       "      <td>46.759998</td>\n",
       "      <td>40.378075</td>\n",
       "      <td>40.378075</td>\n",
       "      <td>40.378075</td>\n",
       "    </tr>\n",
       "    <tr>\n",
       "      <th>2015-01-05</th>\n",
       "      <td>46.369999</td>\n",
       "      <td>46.730000</td>\n",
       "      <td>46.250000</td>\n",
       "      <td>46.330002</td>\n",
       "      <td>40.006771</td>\n",
       "      <td>40.192423</td>\n",
       "      <td>40.192423</td>\n",
       "    </tr>\n",
       "    <tr>\n",
       "      <th>2015-01-06</th>\n",
       "      <td>46.380001</td>\n",
       "      <td>46.750000</td>\n",
       "      <td>45.540001</td>\n",
       "      <td>45.650002</td>\n",
       "      <td>39.419559</td>\n",
       "      <td>39.934802</td>\n",
       "      <td>39.934802</td>\n",
       "    </tr>\n",
       "    <tr>\n",
       "      <th>2015-01-07</th>\n",
       "      <td>45.980000</td>\n",
       "      <td>46.459999</td>\n",
       "      <td>45.490002</td>\n",
       "      <td>46.230000</td>\n",
       "      <td>39.920399</td>\n",
       "      <td>39.931201</td>\n",
       "      <td>39.931201</td>\n",
       "    </tr>\n",
       "    <tr>\n",
       "      <th>2015-01-08</th>\n",
       "      <td>46.750000</td>\n",
       "      <td>47.750000</td>\n",
       "      <td>46.720001</td>\n",
       "      <td>47.590000</td>\n",
       "      <td>41.094788</td>\n",
       "      <td>40.163918</td>\n",
       "      <td>40.163918</td>\n",
       "    </tr>\n",
       "    <tr>\n",
       "      <th>...</th>\n",
       "      <td>...</td>\n",
       "      <td>...</td>\n",
       "      <td>...</td>\n",
       "      <td>...</td>\n",
       "      <td>...</td>\n",
       "      <td>...</td>\n",
       "      <td>...</td>\n",
       "    </tr>\n",
       "    <tr>\n",
       "      <th>2023-08-24</th>\n",
       "      <td>332.850006</td>\n",
       "      <td>332.980011</td>\n",
       "      <td>319.959991</td>\n",
       "      <td>319.970001</td>\n",
       "      <td>318.732483</td>\n",
       "      <td>332.380886</td>\n",
       "      <td>283.561078</td>\n",
       "    </tr>\n",
       "    <tr>\n",
       "      <th>2023-08-25</th>\n",
       "      <td>321.470001</td>\n",
       "      <td>325.359985</td>\n",
       "      <td>318.799988</td>\n",
       "      <td>322.980011</td>\n",
       "      <td>321.730835</td>\n",
       "      <td>332.108997</td>\n",
       "      <td>284.045648</td>\n",
       "    </tr>\n",
       "    <tr>\n",
       "      <th>2023-08-28</th>\n",
       "      <td>325.660004</td>\n",
       "      <td>326.149994</td>\n",
       "      <td>321.720001</td>\n",
       "      <td>323.700012</td>\n",
       "      <td>322.448059</td>\n",
       "      <td>331.637537</td>\n",
       "      <td>284.528872</td>\n",
       "    </tr>\n",
       "    <tr>\n",
       "      <th>2023-08-29</th>\n",
       "      <td>321.880005</td>\n",
       "      <td>328.980011</td>\n",
       "      <td>321.880005</td>\n",
       "      <td>328.410004</td>\n",
       "      <td>327.139832</td>\n",
       "      <td>331.374623</td>\n",
       "      <td>285.057062</td>\n",
       "    </tr>\n",
       "    <tr>\n",
       "      <th>2023-08-30</th>\n",
       "      <td>328.670013</td>\n",
       "      <td>329.809998</td>\n",
       "      <td>326.450012</td>\n",
       "      <td>328.790009</td>\n",
       "      <td>327.518341</td>\n",
       "      <td>331.204369</td>\n",
       "      <td>285.496032</td>\n",
       "    </tr>\n",
       "  </tbody>\n",
       "</table>\n",
       "<p>2180 rows × 7 columns</p>\n",
       "</div>"
      ],
      "text/plain": [
       "                  Open        High         Low       Close   Adj Close  \\\n",
       "Date                                                                     \n",
       "2015-01-02   46.660000   47.419998   46.540001   46.759998   40.378075   \n",
       "2015-01-05   46.369999   46.730000   46.250000   46.330002   40.006771   \n",
       "2015-01-06   46.380001   46.750000   45.540001   45.650002   39.419559   \n",
       "2015-01-07   45.980000   46.459999   45.490002   46.230000   39.920399   \n",
       "2015-01-08   46.750000   47.750000   46.720001   47.590000   41.094788   \n",
       "...                ...         ...         ...         ...         ...   \n",
       "2023-08-24  332.850006  332.980011  319.959991  319.970001  318.732483   \n",
       "2023-08-25  321.470001  325.359985  318.799988  322.980011  321.730835   \n",
       "2023-08-28  325.660004  326.149994  321.720001  323.700012  322.448059   \n",
       "2023-08-29  321.880005  328.980011  321.880005  328.410004  327.139832   \n",
       "2023-08-30  328.670013  329.809998  326.450012  328.790009  327.518341   \n",
       "\n",
       "            50-Day Moving Avg  200-Day Moving Avg  \n",
       "Date                                               \n",
       "2015-01-02          40.378075           40.378075  \n",
       "2015-01-05          40.192423           40.192423  \n",
       "2015-01-06          39.934802           39.934802  \n",
       "2015-01-07          39.931201           39.931201  \n",
       "2015-01-08          40.163918           40.163918  \n",
       "...                       ...                 ...  \n",
       "2023-08-24         332.380886          283.561078  \n",
       "2023-08-25         332.108997          284.045648  \n",
       "2023-08-28         331.637537          284.528872  \n",
       "2023-08-29         331.374623          285.057062  \n",
       "2023-08-30         331.204369          285.496032  \n",
       "\n",
       "[2180 rows x 7 columns]"
      ]
     },
     "metadata": {},
     "output_type": "display_data"
    },
    {
     "name": "stdout",
     "output_type": "stream",
     "text": [
      "Checking for missing values...\n",
      "No missing values found. \n",
      "\n",
      "Checking for duplicate rows...\n",
      "No duplicate rows found. \n",
      "\n",
      "Checking data types...\n",
      "No abnormal data types found. \n",
      "\n",
      "Generating summary statistics...\n"
     ]
    },
    {
     "data": {
      "text/html": [
       "<div>\n",
       "<style scoped>\n",
       "    .dataframe tbody tr th:only-of-type {\n",
       "        vertical-align: middle;\n",
       "    }\n",
       "\n",
       "    .dataframe tbody tr th {\n",
       "        vertical-align: top;\n",
       "    }\n",
       "\n",
       "    .dataframe thead th {\n",
       "        text-align: right;\n",
       "    }\n",
       "</style>\n",
       "<table border=\"1\" class=\"dataframe\">\n",
       "  <thead>\n",
       "    <tr style=\"text-align: right;\">\n",
       "      <th></th>\n",
       "      <th>Open</th>\n",
       "      <th>High</th>\n",
       "      <th>Low</th>\n",
       "      <th>Close</th>\n",
       "      <th>Adj Close</th>\n",
       "      <th>50-Day Moving Avg</th>\n",
       "      <th>200-Day Moving Avg</th>\n",
       "    </tr>\n",
       "  </thead>\n",
       "  <tbody>\n",
       "    <tr>\n",
       "      <th>count</th>\n",
       "      <td>2180.000000</td>\n",
       "      <td>2180.000000</td>\n",
       "      <td>2180.000000</td>\n",
       "      <td>2180.000000</td>\n",
       "      <td>2180.000000</td>\n",
       "      <td>2180.000000</td>\n",
       "      <td>2180.000000</td>\n",
       "    </tr>\n",
       "    <tr>\n",
       "      <th>mean</th>\n",
       "      <td>154.567982</td>\n",
       "      <td>156.142161</td>\n",
       "      <td>152.948702</td>\n",
       "      <td>154.618147</td>\n",
       "      <td>149.176314</td>\n",
       "      <td>145.936609</td>\n",
       "      <td>136.950922</td>\n",
       "    </tr>\n",
       "    <tr>\n",
       "      <th>std</th>\n",
       "      <td>94.979997</td>\n",
       "      <td>96.022875</td>\n",
       "      <td>93.899875</td>\n",
       "      <td>94.996835</td>\n",
       "      <td>95.426944</td>\n",
       "      <td>93.868354</td>\n",
       "      <td>89.984431</td>\n",
       "    </tr>\n",
       "    <tr>\n",
       "      <th>min</th>\n",
       "      <td>40.340000</td>\n",
       "      <td>40.740002</td>\n",
       "      <td>39.720001</td>\n",
       "      <td>40.290001</td>\n",
       "      <td>34.886105</td>\n",
       "      <td>36.736485</td>\n",
       "      <td>37.452048</td>\n",
       "    </tr>\n",
       "    <tr>\n",
       "      <th>25%</th>\n",
       "      <td>64.547503</td>\n",
       "      <td>64.942497</td>\n",
       "      <td>64.235001</td>\n",
       "      <td>64.635000</td>\n",
       "      <td>59.249489</td>\n",
       "      <td>58.057707</td>\n",
       "      <td>52.831990</td>\n",
       "    </tr>\n",
       "    <tr>\n",
       "      <th>50%</th>\n",
       "      <td>124.600002</td>\n",
       "      <td>125.820000</td>\n",
       "      <td>123.825001</td>\n",
       "      <td>125.470001</td>\n",
       "      <td>119.433922</td>\n",
       "      <td>112.872825</td>\n",
       "      <td>104.429131</td>\n",
       "    </tr>\n",
       "    <tr>\n",
       "      <th>75%</th>\n",
       "      <td>243.172497</td>\n",
       "      <td>245.300003</td>\n",
       "      <td>240.820000</td>\n",
       "      <td>243.007500</td>\n",
       "      <td>238.935291</td>\n",
       "      <td>237.692926</td>\n",
       "      <td>225.788628</td>\n",
       "    </tr>\n",
       "    <tr>\n",
       "      <th>max</th>\n",
       "      <td>361.750000</td>\n",
       "      <td>366.779999</td>\n",
       "      <td>352.440002</td>\n",
       "      <td>359.489990</td>\n",
       "      <td>357.343048</td>\n",
       "      <td>334.563110</td>\n",
       "      <td>299.007991</td>\n",
       "    </tr>\n",
       "  </tbody>\n",
       "</table>\n",
       "</div>"
      ],
      "text/plain": [
       "              Open         High          Low        Close    Adj Close  \\\n",
       "count  2180.000000  2180.000000  2180.000000  2180.000000  2180.000000   \n",
       "mean    154.567982   156.142161   152.948702   154.618147   149.176314   \n",
       "std      94.979997    96.022875    93.899875    94.996835    95.426944   \n",
       "min      40.340000    40.740002    39.720001    40.290001    34.886105   \n",
       "25%      64.547503    64.942497    64.235001    64.635000    59.249489   \n",
       "50%     124.600002   125.820000   123.825001   125.470001   119.433922   \n",
       "75%     243.172497   245.300003   240.820000   243.007500   238.935291   \n",
       "max     361.750000   366.779999   352.440002   359.489990   357.343048   \n",
       "\n",
       "       50-Day Moving Avg  200-Day Moving Avg  \n",
       "count        2180.000000         2180.000000  \n",
       "mean          145.936609          136.950922  \n",
       "std            93.868354           89.984431  \n",
       "min            36.736485           37.452048  \n",
       "25%            58.057707           52.831990  \n",
       "50%           112.872825          104.429131  \n",
       "75%           237.692926          225.788628  \n",
       "max           334.563110          299.007991  "
      ]
     },
     "metadata": {},
     "output_type": "display_data"
    },
    {
     "name": "stdout",
     "output_type": "stream",
     "text": [
      "Plotting MSFT data...\n"
     ]
    },
    {
     "data": {
      "image/png": "[encoded data removed]",
      "text/plain": [
       "<Figure size 1000x600 with 1 Axes>"
      ]
     },
     "metadata": {},
     "output_type": "display_data"
    }
   ],
   "source": [
    "symbol = 'MSFT'\n",
    "start_date = '2015-01-01'\n",
    "end_date = '2023-08-31'\n",
    "df_MSFT = download_stock_data(symbol, start_date, end_date).drop(columns={'Volume'})\n",
    "df_MSFT = calculate_moving_averages(df_MSFT)\n",
    "display(df_MSFT)\n",
    "check_data(df_MSFT)\n",
    "plot_data(df_MSFT, df_MSFT['Adj Close'], df_MSFT['50-Day Moving Avg'], df_MSFT['200-Day Moving Avg'],'MSFT')"
   ]
  },
  {
   "cell_type": "markdown",
   "metadata": {},
   "source": [
    "## Strategies\n",
    "Define the Feature Variable ‘X’, and the Label/Target variable ‘y’.\n",
    "\n",
    "Spilt the data into training and test datasets (use the 80/20 percent ratio).\n",
    "- Strategy One \n",
    "    - If the next trading day's close price is greater than today's close price then the signal is ‘buy’, otherwise ‘sell’\n",
    "- Strategy Two \n",
    "    - Utilize the 50-day moving average vs the 200-day moving average. Generate 'buy' and 'sell' signals using 'golden/death cross' patterns"
   ]
  },
  {
   "cell_type": "code",
   "execution_count": 365,
   "metadata": {},
   "outputs": [],
   "source": [
    "def define_variables(df: pd.DataFrame, signal: pd.Series) -> tuple[np.ndarray, np.ndarray]:\n",
    "    \"\"\"\n",
    "    Define feature variable 'X' and label/target variable 'y'\n",
    "    **Note: 'Adj Close' and MAs are not included within the feature variable to avoid data leakage and redundancy \n",
    "    \"\"\"\n",
    "    if df is not None:\n",
    "        X = df[['Open', 'High', 'Low', 'Close']].values\n",
    "        y = signal.values\n",
    "        return X, y\n",
    "    else:\n",
    "        raise Exception('Error: No data available')"
   ]
  },
  {
   "cell_type": "code",
   "execution_count": 366,
   "metadata": {},
   "outputs": [
    {
     "data": {
      "text/html": [
       "<div>\n",
       "<style scoped>\n",
       "    .dataframe tbody tr th:only-of-type {\n",
       "        vertical-align: middle;\n",
       "    }\n",
       "\n",
       "    .dataframe tbody tr th {\n",
       "        vertical-align: top;\n",
       "    }\n",
       "\n",
       "    .dataframe thead th {\n",
       "        text-align: right;\n",
       "    }\n",
       "</style>\n",
       "<table border=\"1\" class=\"dataframe\">\n",
       "  <thead>\n",
       "    <tr style=\"text-align: right;\">\n",
       "      <th></th>\n",
       "      <th>Open</th>\n",
       "      <th>High</th>\n",
       "      <th>Low</th>\n",
       "      <th>Close</th>\n",
       "      <th>Adj Close</th>\n",
       "      <th>50-Day Moving Avg</th>\n",
       "      <th>200-Day Moving Avg</th>\n",
       "      <th>Signal One</th>\n",
       "    </tr>\n",
       "    <tr>\n",
       "      <th>Date</th>\n",
       "      <th></th>\n",
       "      <th></th>\n",
       "      <th></th>\n",
       "      <th></th>\n",
       "      <th></th>\n",
       "      <th></th>\n",
       "      <th></th>\n",
       "      <th></th>\n",
       "    </tr>\n",
       "  </thead>\n",
       "  <tbody>\n",
       "    <tr>\n",
       "      <th>2015-01-02</th>\n",
       "      <td>46.660000</td>\n",
       "      <td>47.419998</td>\n",
       "      <td>46.540001</td>\n",
       "      <td>46.759998</td>\n",
       "      <td>40.378075</td>\n",
       "      <td>40.378075</td>\n",
       "      <td>40.378075</td>\n",
       "      <td>-1</td>\n",
       "    </tr>\n",
       "    <tr>\n",
       "      <th>2015-01-05</th>\n",
       "      <td>46.369999</td>\n",
       "      <td>46.730000</td>\n",
       "      <td>46.250000</td>\n",
       "      <td>46.330002</td>\n",
       "      <td>40.006771</td>\n",
       "      <td>40.192423</td>\n",
       "      <td>40.192423</td>\n",
       "      <td>-1</td>\n",
       "    </tr>\n",
       "    <tr>\n",
       "      <th>2015-01-06</th>\n",
       "      <td>46.380001</td>\n",
       "      <td>46.750000</td>\n",
       "      <td>45.540001</td>\n",
       "      <td>45.650002</td>\n",
       "      <td>39.419559</td>\n",
       "      <td>39.934802</td>\n",
       "      <td>39.934802</td>\n",
       "      <td>1</td>\n",
       "    </tr>\n",
       "    <tr>\n",
       "      <th>2015-01-07</th>\n",
       "      <td>45.980000</td>\n",
       "      <td>46.459999</td>\n",
       "      <td>45.490002</td>\n",
       "      <td>46.230000</td>\n",
       "      <td>39.920399</td>\n",
       "      <td>39.931201</td>\n",
       "      <td>39.931201</td>\n",
       "      <td>1</td>\n",
       "    </tr>\n",
       "    <tr>\n",
       "      <th>2015-01-08</th>\n",
       "      <td>46.750000</td>\n",
       "      <td>47.750000</td>\n",
       "      <td>46.720001</td>\n",
       "      <td>47.590000</td>\n",
       "      <td>41.094788</td>\n",
       "      <td>40.163918</td>\n",
       "      <td>40.163918</td>\n",
       "      <td>-1</td>\n",
       "    </tr>\n",
       "    <tr>\n",
       "      <th>...</th>\n",
       "      <td>...</td>\n",
       "      <td>...</td>\n",
       "      <td>...</td>\n",
       "      <td>...</td>\n",
       "      <td>...</td>\n",
       "      <td>...</td>\n",
       "      <td>...</td>\n",
       "      <td>...</td>\n",
       "    </tr>\n",
       "    <tr>\n",
       "      <th>2023-08-24</th>\n",
       "      <td>332.850006</td>\n",
       "      <td>332.980011</td>\n",
       "      <td>319.959991</td>\n",
       "      <td>319.970001</td>\n",
       "      <td>318.732483</td>\n",
       "      <td>332.380886</td>\n",
       "      <td>283.561078</td>\n",
       "      <td>1</td>\n",
       "    </tr>\n",
       "    <tr>\n",
       "      <th>2023-08-25</th>\n",
       "      <td>321.470001</td>\n",
       "      <td>325.359985</td>\n",
       "      <td>318.799988</td>\n",
       "      <td>322.980011</td>\n",
       "      <td>321.730835</td>\n",
       "      <td>332.108997</td>\n",
       "      <td>284.045648</td>\n",
       "      <td>1</td>\n",
       "    </tr>\n",
       "    <tr>\n",
       "      <th>2023-08-28</th>\n",
       "      <td>325.660004</td>\n",
       "      <td>326.149994</td>\n",
       "      <td>321.720001</td>\n",
       "      <td>323.700012</td>\n",
       "      <td>322.448059</td>\n",
       "      <td>331.637537</td>\n",
       "      <td>284.528872</td>\n",
       "      <td>1</td>\n",
       "    </tr>\n",
       "    <tr>\n",
       "      <th>2023-08-29</th>\n",
       "      <td>321.880005</td>\n",
       "      <td>328.980011</td>\n",
       "      <td>321.880005</td>\n",
       "      <td>328.410004</td>\n",
       "      <td>327.139832</td>\n",
       "      <td>331.374623</td>\n",
       "      <td>285.057062</td>\n",
       "      <td>1</td>\n",
       "    </tr>\n",
       "    <tr>\n",
       "      <th>2023-08-30</th>\n",
       "      <td>328.670013</td>\n",
       "      <td>329.809998</td>\n",
       "      <td>326.450012</td>\n",
       "      <td>328.790009</td>\n",
       "      <td>327.518341</td>\n",
       "      <td>331.204369</td>\n",
       "      <td>285.496032</td>\n",
       "      <td>-1</td>\n",
       "    </tr>\n",
       "  </tbody>\n",
       "</table>\n",
       "<p>2180 rows × 8 columns</p>\n",
       "</div>"
      ],
      "text/plain": [
       "                  Open        High         Low       Close   Adj Close  \\\n",
       "Date                                                                     \n",
       "2015-01-02   46.660000   47.419998   46.540001   46.759998   40.378075   \n",
       "2015-01-05   46.369999   46.730000   46.250000   46.330002   40.006771   \n",
       "2015-01-06   46.380001   46.750000   45.540001   45.650002   39.419559   \n",
       "2015-01-07   45.980000   46.459999   45.490002   46.230000   39.920399   \n",
       "2015-01-08   46.750000   47.750000   46.720001   47.590000   41.094788   \n",
       "...                ...         ...         ...         ...         ...   \n",
       "2023-08-24  332.850006  332.980011  319.959991  319.970001  318.732483   \n",
       "2023-08-25  321.470001  325.359985  318.799988  322.980011  321.730835   \n",
       "2023-08-28  325.660004  326.149994  321.720001  323.700012  322.448059   \n",
       "2023-08-29  321.880005  328.980011  321.880005  328.410004  327.139832   \n",
       "2023-08-30  328.670013  329.809998  326.450012  328.790009  327.518341   \n",
       "\n",
       "            50-Day Moving Avg  200-Day Moving Avg  Signal One  \n",
       "Date                                                           \n",
       "2015-01-02          40.378075           40.378075          -1  \n",
       "2015-01-05          40.192423           40.192423          -1  \n",
       "2015-01-06          39.934802           39.934802           1  \n",
       "2015-01-07          39.931201           39.931201           1  \n",
       "2015-01-08          40.163918           40.163918          -1  \n",
       "...                       ...                 ...         ...  \n",
       "2023-08-24         332.380886          283.561078           1  \n",
       "2023-08-25         332.108997          284.045648           1  \n",
       "2023-08-28         331.637537          284.528872           1  \n",
       "2023-08-29         331.374623          285.057062           1  \n",
       "2023-08-30         331.204369          285.496032          -1  \n",
       "\n",
       "[2180 rows x 8 columns]"
      ]
     },
     "metadata": {},
     "output_type": "display_data"
    },
    {
     "data": {
      "text/plain": [
       "(1744, 4)"
      ]
     },
     "metadata": {},
     "output_type": "display_data"
    },
    {
     "data": {
      "text/plain": [
       "(436, 4)"
      ]
     },
     "metadata": {},
     "output_type": "display_data"
    },
    {
     "data": {
      "text/plain": [
       "(1744,)"
      ]
     },
     "metadata": {},
     "output_type": "display_data"
    },
    {
     "data": {
      "text/plain": [
       "(436,)"
      ]
     },
     "metadata": {},
     "output_type": "display_data"
    }
   ],
   "source": [
    "df_MSFT['Signal One'] = np.where(df_MSFT['Adj Close'].shift(-1) > df_MSFT['Adj Close'], 1, -1)\n",
    "display(df_MSFT)\n",
    "X_one, y_one = define_variables(df_MSFT, df_MSFT['Signal One'])\n",
    "X_train_one, X_test_one, y_train_one, y_test_one = train_test_split(X_one, y_one, test_size=0.2, random_state=42)\n",
    "variables_one = [X_train_one, X_test_one, y_train_one, y_test_one]\n",
    "for var in variables_one:\n",
    "    display(var.shape)\n",
    "    # display(var)"
   ]
  },
  {
   "cell_type": "code",
   "execution_count": 367,
   "metadata": {},
   "outputs": [
    {
     "data": {
      "text/html": [
       "<div>\n",
       "<style scoped>\n",
       "    .dataframe tbody tr th:only-of-type {\n",
       "        vertical-align: middle;\n",
       "    }\n",
       "\n",
       "    .dataframe tbody tr th {\n",
       "        vertical-align: top;\n",
       "    }\n",
       "\n",
       "    .dataframe thead th {\n",
       "        text-align: right;\n",
       "    }\n",
       "</style>\n",
       "<table border=\"1\" class=\"dataframe\">\n",
       "  <thead>\n",
       "    <tr style=\"text-align: right;\">\n",
       "      <th></th>\n",
       "      <th>Open</th>\n",
       "      <th>High</th>\n",
       "      <th>Low</th>\n",
       "      <th>Close</th>\n",
       "      <th>Adj Close</th>\n",
       "      <th>50-Day Moving Avg</th>\n",
       "      <th>200-Day Moving Avg</th>\n",
       "      <th>Signal One</th>\n",
       "      <th>Signal Two</th>\n",
       "    </tr>\n",
       "    <tr>\n",
       "      <th>Date</th>\n",
       "      <th></th>\n",
       "      <th></th>\n",
       "      <th></th>\n",
       "      <th></th>\n",
       "      <th></th>\n",
       "      <th></th>\n",
       "      <th></th>\n",
       "      <th></th>\n",
       "      <th></th>\n",
       "    </tr>\n",
       "  </thead>\n",
       "  <tbody>\n",
       "    <tr>\n",
       "      <th>2015-01-02</th>\n",
       "      <td>46.660000</td>\n",
       "      <td>47.419998</td>\n",
       "      <td>46.540001</td>\n",
       "      <td>46.759998</td>\n",
       "      <td>40.378075</td>\n",
       "      <td>40.378075</td>\n",
       "      <td>40.378075</td>\n",
       "      <td>-1</td>\n",
       "      <td>-1</td>\n",
       "    </tr>\n",
       "    <tr>\n",
       "      <th>2015-01-05</th>\n",
       "      <td>46.369999</td>\n",
       "      <td>46.730000</td>\n",
       "      <td>46.250000</td>\n",
       "      <td>46.330002</td>\n",
       "      <td>40.006771</td>\n",
       "      <td>40.192423</td>\n",
       "      <td>40.192423</td>\n",
       "      <td>-1</td>\n",
       "      <td>-1</td>\n",
       "    </tr>\n",
       "    <tr>\n",
       "      <th>2015-01-06</th>\n",
       "      <td>46.380001</td>\n",
       "      <td>46.750000</td>\n",
       "      <td>45.540001</td>\n",
       "      <td>45.650002</td>\n",
       "      <td>39.419559</td>\n",
       "      <td>39.934802</td>\n",
       "      <td>39.934802</td>\n",
       "      <td>1</td>\n",
       "      <td>-1</td>\n",
       "    </tr>\n",
       "    <tr>\n",
       "      <th>2015-01-07</th>\n",
       "      <td>45.980000</td>\n",
       "      <td>46.459999</td>\n",
       "      <td>45.490002</td>\n",
       "      <td>46.230000</td>\n",
       "      <td>39.920399</td>\n",
       "      <td>39.931201</td>\n",
       "      <td>39.931201</td>\n",
       "      <td>1</td>\n",
       "      <td>-1</td>\n",
       "    </tr>\n",
       "    <tr>\n",
       "      <th>2015-01-08</th>\n",
       "      <td>46.750000</td>\n",
       "      <td>47.750000</td>\n",
       "      <td>46.720001</td>\n",
       "      <td>47.590000</td>\n",
       "      <td>41.094788</td>\n",
       "      <td>40.163918</td>\n",
       "      <td>40.163918</td>\n",
       "      <td>-1</td>\n",
       "      <td>-1</td>\n",
       "    </tr>\n",
       "    <tr>\n",
       "      <th>...</th>\n",
       "      <td>...</td>\n",
       "      <td>...</td>\n",
       "      <td>...</td>\n",
       "      <td>...</td>\n",
       "      <td>...</td>\n",
       "      <td>...</td>\n",
       "      <td>...</td>\n",
       "      <td>...</td>\n",
       "      <td>...</td>\n",
       "    </tr>\n",
       "    <tr>\n",
       "      <th>2023-08-24</th>\n",
       "      <td>332.850006</td>\n",
       "      <td>332.980011</td>\n",
       "      <td>319.959991</td>\n",
       "      <td>319.970001</td>\n",
       "      <td>318.732483</td>\n",
       "      <td>332.380886</td>\n",
       "      <td>283.561078</td>\n",
       "      <td>1</td>\n",
       "      <td>1</td>\n",
       "    </tr>\n",
       "    <tr>\n",
       "      <th>2023-08-25</th>\n",
       "      <td>321.470001</td>\n",
       "      <td>325.359985</td>\n",
       "      <td>318.799988</td>\n",
       "      <td>322.980011</td>\n",
       "      <td>321.730835</td>\n",
       "      <td>332.108997</td>\n",
       "      <td>284.045648</td>\n",
       "      <td>1</td>\n",
       "      <td>1</td>\n",
       "    </tr>\n",
       "    <tr>\n",
       "      <th>2023-08-28</th>\n",
       "      <td>325.660004</td>\n",
       "      <td>326.149994</td>\n",
       "      <td>321.720001</td>\n",
       "      <td>323.700012</td>\n",
       "      <td>322.448059</td>\n",
       "      <td>331.637537</td>\n",
       "      <td>284.528872</td>\n",
       "      <td>1</td>\n",
       "      <td>1</td>\n",
       "    </tr>\n",
       "    <tr>\n",
       "      <th>2023-08-29</th>\n",
       "      <td>321.880005</td>\n",
       "      <td>328.980011</td>\n",
       "      <td>321.880005</td>\n",
       "      <td>328.410004</td>\n",
       "      <td>327.139832</td>\n",
       "      <td>331.374623</td>\n",
       "      <td>285.057062</td>\n",
       "      <td>1</td>\n",
       "      <td>1</td>\n",
       "    </tr>\n",
       "    <tr>\n",
       "      <th>2023-08-30</th>\n",
       "      <td>328.670013</td>\n",
       "      <td>329.809998</td>\n",
       "      <td>326.450012</td>\n",
       "      <td>328.790009</td>\n",
       "      <td>327.518341</td>\n",
       "      <td>331.204369</td>\n",
       "      <td>285.496032</td>\n",
       "      <td>-1</td>\n",
       "      <td>1</td>\n",
       "    </tr>\n",
       "  </tbody>\n",
       "</table>\n",
       "<p>2180 rows × 9 columns</p>\n",
       "</div>"
      ],
      "text/plain": [
       "                  Open        High         Low       Close   Adj Close  \\\n",
       "Date                                                                     \n",
       "2015-01-02   46.660000   47.419998   46.540001   46.759998   40.378075   \n",
       "2015-01-05   46.369999   46.730000   46.250000   46.330002   40.006771   \n",
       "2015-01-06   46.380001   46.750000   45.540001   45.650002   39.419559   \n",
       "2015-01-07   45.980000   46.459999   45.490002   46.230000   39.920399   \n",
       "2015-01-08   46.750000   47.750000   46.720001   47.590000   41.094788   \n",
       "...                ...         ...         ...         ...         ...   \n",
       "2023-08-24  332.850006  332.980011  319.959991  319.970001  318.732483   \n",
       "2023-08-25  321.470001  325.359985  318.799988  322.980011  321.730835   \n",
       "2023-08-28  325.660004  326.149994  321.720001  323.700012  322.448059   \n",
       "2023-08-29  321.880005  328.980011  321.880005  328.410004  327.139832   \n",
       "2023-08-30  328.670013  329.809998  326.450012  328.790009  327.518341   \n",
       "\n",
       "            50-Day Moving Avg  200-Day Moving Avg  Signal One  Signal Two  \n",
       "Date                                                                       \n",
       "2015-01-02          40.378075           40.378075          -1          -1  \n",
       "2015-01-05          40.192423           40.192423          -1          -1  \n",
       "2015-01-06          39.934802           39.934802           1          -1  \n",
       "2015-01-07          39.931201           39.931201           1          -1  \n",
       "2015-01-08          40.163918           40.163918          -1          -1  \n",
       "...                       ...                 ...         ...         ...  \n",
       "2023-08-24         332.380886          283.561078           1           1  \n",
       "2023-08-25         332.108997          284.045648           1           1  \n",
       "2023-08-28         331.637537          284.528872           1           1  \n",
       "2023-08-29         331.374623          285.057062           1           1  \n",
       "2023-08-30         331.204369          285.496032          -1           1  \n",
       "\n",
       "[2180 rows x 9 columns]"
      ]
     },
     "metadata": {},
     "output_type": "display_data"
    },
    {
     "data": {
      "text/plain": [
       "(1744, 4)"
      ]
     },
     "metadata": {},
     "output_type": "display_data"
    },
    {
     "data": {
      "text/plain": [
       "(436, 4)"
      ]
     },
     "metadata": {},
     "output_type": "display_data"
    },
    {
     "data": {
      "text/plain": [
       "(1744,)"
      ]
     },
     "metadata": {},
     "output_type": "display_data"
    },
    {
     "data": {
      "text/plain": [
       "(436,)"
      ]
     },
     "metadata": {},
     "output_type": "display_data"
    }
   ],
   "source": [
    "df_MSFT['Signal Two'] = np.where(df_MSFT['50-Day Moving Avg'] > df_MSFT['200-Day Moving Avg'], 1, -1)\n",
    "display(df_MSFT)\n",
    "X_two, y_two = define_variables(df_MSFT, df_MSFT['Signal Two'])\n",
    "X_train_two, X_test_two, y_train_two, y_test_two = train_test_split(X_two, y_two, test_size=0.2, random_state=42)\n",
    "variables_two = [X_train_two, X_test_two, y_train_two, y_test_two]\n",
    "for var in variables_two:\n",
    "    display(var.shape)\n",
    "    # display(var)"
   ]
  },
  {
   "cell_type": "markdown",
   "metadata": {},
   "source": [
    "## Hypertuning\n",
    "Various methods exist for hypertuning parameters.\n",
    "- Grid Search\n",
    "    - Exhaustive approach that explores all possible combinations of hyperparameters\n",
    "    - Simple but expensive computationally\n",
    "    - Low scalability, adding parameters will increase runtime exponentially\n",
    "- Random Search\n",
    "    - Samples random combinations, not all, of hyperparameters\n",
    "    - Better scalability, less intensive\n",
    "    - No guarantee of receiving the optimal combination of hyperparameters\n",
    "- Bayesian Optimization (Bayes Search)\n",
    "    - Efficient and robust approach that uses a probability model of the objective function to perform search \n",
    "    - Official scikit-optimization documentation states: \n",
    "        - \"A predictive model referred to as 'surrogate' is used to model the search space and utilized to arrive at good parameter values combination as soon as possible.\"\n",
    "        - Uses past evaluations to reach an outcome faster more efficiently"
   ]
  },
  {
   "cell_type": "code",
   "execution_count": 368,
   "metadata": {},
   "outputs": [],
   "source": [
    "def hypertune_Model(clf, params: dict, X_train: np.ndarray, y_train: np.ndarray) -> None:\n",
    "    \"\"\"\n",
    "    Hyperparameter tuning classifiers using Bayesian optimization.\n",
    "    \"\"\"\n",
    "    if X_train is not None and y_train is not None:\n",
    "        warnings.filterwarnings(\"ignore\", message=\"The objective has been evaluated at this point before.\")\n",
    "        opt = BayesSearchCV(\n",
    "            clf,\n",
    "            params,\n",
    "            cv=5,\n",
    "            n_iter=50,\n",
    "            scoring='accuracy',\n",
    "            random_state=42\n",
    "        )\n",
    "        opt.fit(X_train, y_train)\n",
    "        print(f\"Best Param: {opt.best_params_}\")\n",
    "        print(f\"Best Score: {opt.best_score_}\")\n",
    "    else:\n",
    "        raise Exception('Error: No data available')"
   ]
  },
  {
   "cell_type": "markdown",
   "metadata": {},
   "source": [
    "## K-Nearest Neighbors\n",
    "\"Implements learning based on the 'k' nearest neighbors of each query point, where 'k' is an integer value specified by the user.\"\n",
    "- Parameters being tuned:\n",
    "    - 'n_neighbors'\n",
    "    - 'weights' \n",
    "    - 'leaf_size'\n",
    "    - 'p'\n",
    "    - 'metric'\n"
   ]
  },
  {
   "cell_type": "code",
   "execution_count": 369,
   "metadata": {},
   "outputs": [],
   "source": [
    "def apply_KNN(knn_clf: knn, X_train: np.ndarray, y_train: np.ndarray, X_test: np.ndarray, y_test: np.ndarray) -> None:\n",
    "    \"\"\"\n",
    "    Apply k-Nearest Neighbors (KNN) classifier, generate predictions, and evaluate the model.\n",
    "    \"\"\"\n",
    "    if isinstance(knn_clf, knn):\n",
    "        fitted_knn = knn_clf.fit(X_train, y_train)\n",
    "        display(fitted_knn)\n",
    "        predictions_knn = fitted_knn.predict(X_test)\n",
    "        cm = confusion_matrix(y_test, predictions_knn)\n",
    "        disp = ConfusionMatrixDisplay(confusion_matrix=cm, display_labels=[-1, 1])\n",
    "        disp.plot()\n",
    "        plt.show()\n",
    "        print(classification_report(y_test, predictions_knn))\n",
    "    else:\n",
    "        raise ValueError('knn_clf must be an instance of KNeighborsClassifier')"
   ]
  },
  {
   "cell_type": "code",
   "execution_count": 370,
   "metadata": {},
   "outputs": [
    {
     "name": "stdout",
     "output_type": "stream",
     "text": [
      "Strategy One:\n",
      "Best Param: OrderedDict([('leaf_size', 11), ('metric', 'minkowski'), ('n_neighbors', 30), ('p', 1), ('weights', 'uniform')])\n",
      "Best Score: 0.5355531403352766\n",
      "\n",
      "Strategy Two:\n",
      "Best Param: OrderedDict([('leaf_size', 2), ('metric', 'minkowski'), ('n_neighbors', 30), ('p', 2), ('weights', 'distance')])\n",
      "Best Score: 0.8761535421401048\n"
     ]
    }
   ],
   "source": [
    "knn_clf = knn()\n",
    "knn_params = {\n",
    "    'n_neighbors': (1, 30), \n",
    "    'weights': ['uniform', 'distance'], \n",
    "    'leaf_size': (1, 30),\n",
    "    'p': [1, 2], \n",
    "    'metric': ['minkowski', 'manhattan']\n",
    "}\n",
    "print('Strategy One:')\n",
    "hypertune_Model(knn_clf, knn_params, X_train_one, y_train_one)\n",
    "print('\\nStrategy Two:')\n",
    "hypertune_Model(knn_clf, knn_params, X_train_two, y_train_two)"
   ]
  },
  {
   "cell_type": "code",
   "execution_count": 371,
   "metadata": {},
   "outputs": [
    {
     "data": {
      "text/html": [
       "<style>#sk-container-id-219 {color: black;}#sk-container-id-219 pre{padding: 0;}#sk-container-id-219 div.sk-toggleable {background-color: white;}#sk-container-id-219 label.sk-toggleable__label {cursor: pointer;display: block;width: 100%;margin-bottom: 0;padding: 0.3em;box-sizing: border-box;text-align: center;}#sk-container-id-219 label.sk-toggleable__label-arrow:before {content: \"▸\";float: left;margin-right: 0.25em;color: #696969;}#sk-container-id-219 label.sk-toggleable__label-arrow:hover:before {color: black;}#sk-container-id-219 div.sk-estimator:hover label.sk-toggleable__label-arrow:before {color: black;}#sk-container-id-219 div.sk-toggleable__content {max-height: 0;max-width: 0;overflow: hidden;text-align: left;background-color: #f0f8ff;}#sk-container-id-219 div.sk-toggleable__content pre {margin: 0.2em;color: black;border-radius: 0.25em;background-color: #f0f8ff;}#sk-container-id-219 input.sk-toggleable__control:checked~div.sk-toggleable__content {max-height: 200px;max-width: 100%;overflow: auto;}#sk-container-id-219 input.sk-toggleable__control:checked~label.sk-toggleable__label-arrow:before {content: \"▾\";}#sk-container-id-219 div.sk-estimator input.sk-toggleable__control:checked~label.sk-toggleable__label {background-color: #d4ebff;}#sk-container-id-219 div.sk-label input.sk-toggleable__control:checked~label.sk-toggleable__label {background-color: #d4ebff;}#sk-container-id-219 input.sk-hidden--visually {border: 0;clip: rect(1px 1px 1px 1px);clip: rect(1px, 1px, 1px, 1px);height: 1px;margin: -1px;overflow: hidden;padding: 0;position: absolute;width: 1px;}#sk-container-id-219 div.sk-estimator {font-family: monospace;background-color: #f0f8ff;border: 1px dotted black;border-radius: 0.25em;box-sizing: border-box;margin-bottom: 0.5em;}#sk-container-id-219 div.sk-estimator:hover {background-color: #d4ebff;}#sk-container-id-219 div.sk-parallel-item::after {content: \"\";width: 100%;border-bottom: 1px solid gray;flex-grow: 1;}#sk-container-id-219 div.sk-label:hover label.sk-toggleable__label {background-color: #d4ebff;}#sk-container-id-219 div.sk-serial::before {content: \"\";position: absolute;border-left: 1px solid gray;box-sizing: border-box;top: 0;bottom: 0;left: 50%;z-index: 0;}#sk-container-id-219 div.sk-serial {display: flex;flex-direction: column;align-items: center;background-color: white;padding-right: 0.2em;padding-left: 0.2em;position: relative;}#sk-container-id-219 div.sk-item {position: relative;z-index: 1;}#sk-container-id-219 div.sk-parallel {display: flex;align-items: stretch;justify-content: center;background-color: white;position: relative;}#sk-container-id-219 div.sk-item::before, #sk-container-id-219 div.sk-parallel-item::before {content: \"\";position: absolute;border-left: 1px solid gray;box-sizing: border-box;top: 0;bottom: 0;left: 50%;z-index: -1;}#sk-container-id-219 div.sk-parallel-item {display: flex;flex-direction: column;z-index: 1;position: relative;background-color: white;}#sk-container-id-219 div.sk-parallel-item:first-child::after {align-self: flex-end;width: 50%;}#sk-container-id-219 div.sk-parallel-item:last-child::after {align-self: flex-start;width: 50%;}#sk-container-id-219 div.sk-parallel-item:only-child::after {width: 0;}#sk-container-id-219 div.sk-dashed-wrapped {border: 1px dashed gray;margin: 0 0.4em 0.5em 0.4em;box-sizing: border-box;padding-bottom: 0.4em;background-color: white;}#sk-container-id-219 div.sk-label label {font-family: monospace;font-weight: bold;display: inline-block;line-height: 1.2em;}#sk-container-id-219 div.sk-label-container {text-align: center;}#sk-container-id-219 div.sk-container {/* jupyter's `normalize.less` sets `[hidden] { display: none; }` but bootstrap.min.css set `[hidden] { display: none !important; }` so we also need the `!important` here to be able to override the default hidden behavior on the sphinx rendered scikit-learn.org. See: https://github.com/scikit-learn/scikit-learn/issues/21755 */display: inline-block !important;position: relative;}#sk-container-id-219 div.sk-text-repr-fallback {display: none;}</style><div id=\"sk-container-id-219\" class=\"sk-top-container\"><div class=\"sk-text-repr-fallback\"><pre>KNeighborsClassifier(leaf_size=11, n_neighbors=30, p=1)</pre><b>In a Jupyter environment, please rerun this cell to show the HTML representation or trust the notebook. <br />On GitHub, the HTML representation is unable to render, please try loading this page with nbviewer.org.</b></div><div class=\"sk-container\" hidden><div class=\"sk-item\"><div class=\"sk-estimator sk-toggleable\"><input class=\"sk-toggleable__control sk-hidden--visually\" id=\"sk-estimator-id-219\" type=\"checkbox\" checked><label for=\"sk-estimator-id-219\" class=\"sk-toggleable__label sk-toggleable__label-arrow\">KNeighborsClassifier</label><div class=\"sk-toggleable__content\"><pre>KNeighborsClassifier(leaf_size=11, n_neighbors=30, p=1)</pre></div></div></div></div></div>"
      ],
      "text/plain": [
       "KNeighborsClassifier(leaf_size=11, n_neighbors=30, p=1)"
      ]
     },
     "metadata": {},
     "output_type": "display_data"
    },
    {
     "data": {
      "image/png": "[encoded data removed]",
      "text/plain": [
       "<Figure size 640x480 with 2 Axes>"
      ]
     },
     "metadata": {},
     "output_type": "display_data"
    },
    {
     "name": "stdout",
     "output_type": "stream",
     "text": [
      "              precision    recall  f1-score   support\n",
      "\n",
      "          -1       0.48      0.44      0.46       207\n",
      "           1       0.53      0.57      0.55       229\n",
      "\n",
      "    accuracy                           0.51       436\n",
      "   macro avg       0.50      0.50      0.50       436\n",
      "weighted avg       0.50      0.51      0.51       436\n",
      "\n"
     ]
    }
   ],
   "source": [
    "# Before tuning:\n",
    "# \n",
    "#               precision    recall  f1-score   support\n",
    "# \n",
    "#           -1       0.44      0.43      0.43       207\n",
    "#            1       0.49      0.50      0.50       229\n",
    "# \n",
    "#     accuracy                           0.47       436\n",
    "#    macro avg       0.46      0.46      0.46       436\n",
    "# weighted avg       0.46      0.47      0.47       436\n",
    "# \n",
    "# Tuned parameters yield about 8.5% increase in accuracy\n",
    "knn_clf = knn(n_neighbors=30, weights='uniform', leaf_size=11, p=1, metric='minkowski')\n",
    "apply_KNN(knn_clf, X_train_one, y_train_one, X_test_one, y_test_one)"
   ]
  },
  {
   "cell_type": "code",
   "execution_count": 372,
   "metadata": {},
   "outputs": [
    {
     "data": {
      "text/html": [
       "<style>#sk-container-id-220 {color: black;}#sk-container-id-220 pre{padding: 0;}#sk-container-id-220 div.sk-toggleable {background-color: white;}#sk-container-id-220 label.sk-toggleable__label {cursor: pointer;display: block;width: 100%;margin-bottom: 0;padding: 0.3em;box-sizing: border-box;text-align: center;}#sk-container-id-220 label.sk-toggleable__label-arrow:before {content: \"▸\";float: left;margin-right: 0.25em;color: #696969;}#sk-container-id-220 label.sk-toggleable__label-arrow:hover:before {color: black;}#sk-container-id-220 div.sk-estimator:hover label.sk-toggleable__label-arrow:before {color: black;}#sk-container-id-220 div.sk-toggleable__content {max-height: 0;max-width: 0;overflow: hidden;text-align: left;background-color: #f0f8ff;}#sk-container-id-220 div.sk-toggleable__content pre {margin: 0.2em;color: black;border-radius: 0.25em;background-color: #f0f8ff;}#sk-container-id-220 input.sk-toggleable__control:checked~div.sk-toggleable__content {max-height: 200px;max-width: 100%;overflow: auto;}#sk-container-id-220 input.sk-toggleable__control:checked~label.sk-toggleable__label-arrow:before {content: \"▾\";}#sk-container-id-220 div.sk-estimator input.sk-toggleable__control:checked~label.sk-toggleable__label {background-color: #d4ebff;}#sk-container-id-220 div.sk-label input.sk-toggleable__control:checked~label.sk-toggleable__label {background-color: #d4ebff;}#sk-container-id-220 input.sk-hidden--visually {border: 0;clip: rect(1px 1px 1px 1px);clip: rect(1px, 1px, 1px, 1px);height: 1px;margin: -1px;overflow: hidden;padding: 0;position: absolute;width: 1px;}#sk-container-id-220 div.sk-estimator {font-family: monospace;background-color: #f0f8ff;border: 1px dotted black;border-radius: 0.25em;box-sizing: border-box;margin-bottom: 0.5em;}#sk-container-id-220 div.sk-estimator:hover {background-color: #d4ebff;}#sk-container-id-220 div.sk-parallel-item::after {content: \"\";width: 100%;border-bottom: 1px solid gray;flex-grow: 1;}#sk-container-id-220 div.sk-label:hover label.sk-toggleable__label {background-color: #d4ebff;}#sk-container-id-220 div.sk-serial::before {content: \"\";position: absolute;border-left: 1px solid gray;box-sizing: border-box;top: 0;bottom: 0;left: 50%;z-index: 0;}#sk-container-id-220 div.sk-serial {display: flex;flex-direction: column;align-items: center;background-color: white;padding-right: 0.2em;padding-left: 0.2em;position: relative;}#sk-container-id-220 div.sk-item {position: relative;z-index: 1;}#sk-container-id-220 div.sk-parallel {display: flex;align-items: stretch;justify-content: center;background-color: white;position: relative;}#sk-container-id-220 div.sk-item::before, #sk-container-id-220 div.sk-parallel-item::before {content: \"\";position: absolute;border-left: 1px solid gray;box-sizing: border-box;top: 0;bottom: 0;left: 50%;z-index: -1;}#sk-container-id-220 div.sk-parallel-item {display: flex;flex-direction: column;z-index: 1;position: relative;background-color: white;}#sk-container-id-220 div.sk-parallel-item:first-child::after {align-self: flex-end;width: 50%;}#sk-container-id-220 div.sk-parallel-item:last-child::after {align-self: flex-start;width: 50%;}#sk-container-id-220 div.sk-parallel-item:only-child::after {width: 0;}#sk-container-id-220 div.sk-dashed-wrapped {border: 1px dashed gray;margin: 0 0.4em 0.5em 0.4em;box-sizing: border-box;padding-bottom: 0.4em;background-color: white;}#sk-container-id-220 div.sk-label label {font-family: monospace;font-weight: bold;display: inline-block;line-height: 1.2em;}#sk-container-id-220 div.sk-label-container {text-align: center;}#sk-container-id-220 div.sk-container {/* jupyter's `normalize.less` sets `[hidden] { display: none; }` but bootstrap.min.css set `[hidden] { display: none !important; }` so we also need the `!important` here to be able to override the default hidden behavior on the sphinx rendered scikit-learn.org. See: https://github.com/scikit-learn/scikit-learn/issues/21755 */display: inline-block !important;position: relative;}#sk-container-id-220 div.sk-text-repr-fallback {display: none;}</style><div id=\"sk-container-id-220\" class=\"sk-top-container\"><div class=\"sk-text-repr-fallback\"><pre>KNeighborsClassifier(leaf_size=2, n_neighbors=30, weights=&#x27;distance&#x27;)</pre><b>In a Jupyter environment, please rerun this cell to show the HTML representation or trust the notebook. <br />On GitHub, the HTML representation is unable to render, please try loading this page with nbviewer.org.</b></div><div class=\"sk-container\" hidden><div class=\"sk-item\"><div class=\"sk-estimator sk-toggleable\"><input class=\"sk-toggleable__control sk-hidden--visually\" id=\"sk-estimator-id-220\" type=\"checkbox\" checked><label for=\"sk-estimator-id-220\" class=\"sk-toggleable__label sk-toggleable__label-arrow\">KNeighborsClassifier</label><div class=\"sk-toggleable__content\"><pre>KNeighborsClassifier(leaf_size=2, n_neighbors=30, weights=&#x27;distance&#x27;)</pre></div></div></div></div></div>"
      ],
      "text/plain": [
       "KNeighborsClassifier(leaf_size=2, n_neighbors=30, weights='distance')"
      ]
     },
     "metadata": {},
     "output_type": "display_data"
    },
    {
     "data": {
      "image/png": "[encoded data removed]",
      "text/plain": [
       "<Figure size 640x480 with 2 Axes>"
      ]
     },
     "metadata": {},
     "output_type": "display_data"
    },
    {
     "name": "stdout",
     "output_type": "stream",
     "text": [
      "              precision    recall  f1-score   support\n",
      "\n",
      "          -1       0.76      0.66      0.70        76\n",
      "           1       0.93      0.96      0.94       360\n",
      "\n",
      "    accuracy                           0.90       436\n",
      "   macro avg       0.84      0.81      0.82       436\n",
      "weighted avg       0.90      0.90      0.90       436\n",
      "\n"
     ]
    }
   ],
   "source": [
    "# Before tuning:\n",
    "#               precision    recall  f1-score   support\n",
    "# \n",
    "#           -1       0.69      0.62      0.65        76\n",
    "#            1       0.92      0.94      0.93       360\n",
    "# \n",
    "#     accuracy                           0.89       436\n",
    "#    macro avg       0.81      0.78      0.79       436\n",
    "# weighted avg       0.88      0.89      0.88       436\n",
    "# \n",
    "# Tuned parameters yield about 1.1% increase in accuracy\n",
    "knn_clf = knn(n_neighbors=30, weights='distance', leaf_size=2, p=2, metric='minkowski')\n",
    "apply_KNN(knn_clf, X_train_two, y_train_two, X_test_two, y_test_two)"
   ]
  },
  {
   "cell_type": "markdown",
   "metadata": {},
   "source": [
    "## Random Forest \n",
    "\"Fits a number of decision tree classifiers on various sub-samples of the dataset and uses averaging to improve the predictive accuracy and control over-fitting.\"\n",
    "- Parameters being tuned:\n",
    "    - 'n_estimators' \n",
    "    - 'criterion' \n",
    "    - 'max_depth' \n",
    "    - 'min_samples_split' \n",
    "    - 'min_samples_leaf'\n",
    "    - 'max_features' \n",
    "    - 'max_leaf_nodes' "
   ]
  },
  {
   "cell_type": "code",
   "execution_count": 373,
   "metadata": {},
   "outputs": [],
   "source": [
    "def apply_RF(rf_clf: rf, X_train: np.ndarray, y_train: np.ndarray, X_test: np.ndarray, y_test: np.ndarray) -> None:\n",
    "    \"\"\"\n",
    "    Apply Random Forest (RF) classifier, generate predictions, and evaluate the model.\n",
    "    \"\"\"\n",
    "    if isinstance(rf_clf, rf):\n",
    "        fitted_rf = rf_clf.fit(X_train, y_train)\n",
    "        display(fitted_rf)\n",
    "        predictions_rf = fitted_rf.predict(X_test)\n",
    "        cm = confusion_matrix(y_test, predictions_rf)\n",
    "        disp = ConfusionMatrixDisplay(confusion_matrix=cm, display_labels=[-1, 1])\n",
    "        disp.plot()\n",
    "        plt.show()\n",
    "        print(classification_report(y_test, predictions_rf))\n",
    "    else:\n",
    "        raise ValueError('rf_clf must be an instance of RandomForestClassifier')"
   ]
  },
  {
   "cell_type": "code",
   "execution_count": 374,
   "metadata": {},
   "outputs": [
    {
     "name": "stdout",
     "output_type": "stream",
     "text": [
      "Strategy One:\n",
      "Best Param: OrderedDict([('criterion', 'entropy'), ('max_depth', 13), ('max_features', 'sqrt'), ('max_leaf_nodes', 20), ('min_samples_leaf', 1), ('min_samples_split', 15), ('n_estimators', 35)])\n",
      "Best Score: 0.5470177518690511\n",
      "\n",
      "Strategy Two:\n",
      "Best Param: OrderedDict([('criterion', 'entropy'), ('max_depth', 12), ('max_features', None), ('max_leaf_nodes', 19), ('min_samples_leaf', 1), ('min_samples_split', 20), ('n_estimators', 210)])\n",
      "Best Score: 0.8772881467575668\n"
     ]
    }
   ],
   "source": [
    "rf_clf = rf(random_state=42)\n",
    "rf_params = {\n",
    "    'n_estimators': list(range(5, 301, 5)),\n",
    "    'criterion': ['gini', 'entropy'], \n",
    "    'max_depth': (1, 20), \n",
    "    'min_samples_split': (2, 20),\n",
    "    'min_samples_leaf': (1, 20),\n",
    "    'max_features': ['sqrt', \"log2\", None],\n",
    "    'max_leaf_nodes': (2, 20)\n",
    "}\n",
    "print('Strategy One:')\n",
    "hypertune_Model(rf_clf, rf_params, X_train_one, y_train_one)\n",
    "print('\\nStrategy Two:')\n",
    "hypertune_Model(rf_clf, rf_params, X_train_two, y_train_two)"
   ]
  },
  {
   "cell_type": "code",
   "execution_count": 375,
   "metadata": {},
   "outputs": [
    {
     "data": {
      "text/html": [
       "<style>#sk-container-id-221 {color: black;}#sk-container-id-221 pre{padding: 0;}#sk-container-id-221 div.sk-toggleable {background-color: white;}#sk-container-id-221 label.sk-toggleable__label {cursor: pointer;display: block;width: 100%;margin-bottom: 0;padding: 0.3em;box-sizing: border-box;text-align: center;}#sk-container-id-221 label.sk-toggleable__label-arrow:before {content: \"▸\";float: left;margin-right: 0.25em;color: #696969;}#sk-container-id-221 label.sk-toggleable__label-arrow:hover:before {color: black;}#sk-container-id-221 div.sk-estimator:hover label.sk-toggleable__label-arrow:before {color: black;}#sk-container-id-221 div.sk-toggleable__content {max-height: 0;max-width: 0;overflow: hidden;text-align: left;background-color: #f0f8ff;}#sk-container-id-221 div.sk-toggleable__content pre {margin: 0.2em;color: black;border-radius: 0.25em;background-color: #f0f8ff;}#sk-container-id-221 input.sk-toggleable__control:checked~div.sk-toggleable__content {max-height: 200px;max-width: 100%;overflow: auto;}#sk-container-id-221 input.sk-toggleable__control:checked~label.sk-toggleable__label-arrow:before {content: \"▾\";}#sk-container-id-221 div.sk-estimator input.sk-toggleable__control:checked~label.sk-toggleable__label {background-color: #d4ebff;}#sk-container-id-221 div.sk-label input.sk-toggleable__control:checked~label.sk-toggleable__label {background-color: #d4ebff;}#sk-container-id-221 input.sk-hidden--visually {border: 0;clip: rect(1px 1px 1px 1px);clip: rect(1px, 1px, 1px, 1px);height: 1px;margin: -1px;overflow: hidden;padding: 0;position: absolute;width: 1px;}#sk-container-id-221 div.sk-estimator {font-family: monospace;background-color: #f0f8ff;border: 1px dotted black;border-radius: 0.25em;box-sizing: border-box;margin-bottom: 0.5em;}#sk-container-id-221 div.sk-estimator:hover {background-color: #d4ebff;}#sk-container-id-221 div.sk-parallel-item::after {content: \"\";width: 100%;border-bottom: 1px solid gray;flex-grow: 1;}#sk-container-id-221 div.sk-label:hover label.sk-toggleable__label {background-color: #d4ebff;}#sk-container-id-221 div.sk-serial::before {content: \"\";position: absolute;border-left: 1px solid gray;box-sizing: border-box;top: 0;bottom: 0;left: 50%;z-index: 0;}#sk-container-id-221 div.sk-serial {display: flex;flex-direction: column;align-items: center;background-color: white;padding-right: 0.2em;padding-left: 0.2em;position: relative;}#sk-container-id-221 div.sk-item {position: relative;z-index: 1;}#sk-container-id-221 div.sk-parallel {display: flex;align-items: stretch;justify-content: center;background-color: white;position: relative;}#sk-container-id-221 div.sk-item::before, #sk-container-id-221 div.sk-parallel-item::before {content: \"\";position: absolute;border-left: 1px solid gray;box-sizing: border-box;top: 0;bottom: 0;left: 50%;z-index: -1;}#sk-container-id-221 div.sk-parallel-item {display: flex;flex-direction: column;z-index: 1;position: relative;background-color: white;}#sk-container-id-221 div.sk-parallel-item:first-child::after {align-self: flex-end;width: 50%;}#sk-container-id-221 div.sk-parallel-item:last-child::after {align-self: flex-start;width: 50%;}#sk-container-id-221 div.sk-parallel-item:only-child::after {width: 0;}#sk-container-id-221 div.sk-dashed-wrapped {border: 1px dashed gray;margin: 0 0.4em 0.5em 0.4em;box-sizing: border-box;padding-bottom: 0.4em;background-color: white;}#sk-container-id-221 div.sk-label label {font-family: monospace;font-weight: bold;display: inline-block;line-height: 1.2em;}#sk-container-id-221 div.sk-label-container {text-align: center;}#sk-container-id-221 div.sk-container {/* jupyter's `normalize.less` sets `[hidden] { display: none; }` but bootstrap.min.css set `[hidden] { display: none !important; }` so we also need the `!important` here to be able to override the default hidden behavior on the sphinx rendered scikit-learn.org. See: https://github.com/scikit-learn/scikit-learn/issues/21755 */display: inline-block !important;position: relative;}#sk-container-id-221 div.sk-text-repr-fallback {display: none;}</style><div id=\"sk-container-id-221\" class=\"sk-top-container\"><div class=\"sk-text-repr-fallback\"><pre>RandomForestClassifier(criterion=&#x27;entropy&#x27;, max_depth=13, max_leaf_nodes=20,\n",
       "                       min_samples_split=15, n_estimators=35, random_state=42)</pre><b>In a Jupyter environment, please rerun this cell to show the HTML representation or trust the notebook. <br />On GitHub, the HTML representation is unable to render, please try loading this page with nbviewer.org.</b></div><div class=\"sk-container\" hidden><div class=\"sk-item\"><div class=\"sk-estimator sk-toggleable\"><input class=\"sk-toggleable__control sk-hidden--visually\" id=\"sk-estimator-id-221\" type=\"checkbox\" checked><label for=\"sk-estimator-id-221\" class=\"sk-toggleable__label sk-toggleable__label-arrow\">RandomForestClassifier</label><div class=\"sk-toggleable__content\"><pre>RandomForestClassifier(criterion=&#x27;entropy&#x27;, max_depth=13, max_leaf_nodes=20,\n",
       "                       min_samples_split=15, n_estimators=35, random_state=42)</pre></div></div></div></div></div>"
      ],
      "text/plain": [
       "RandomForestClassifier(criterion='entropy', max_depth=13, max_leaf_nodes=20,\n",
       "                       min_samples_split=15, n_estimators=35, random_state=42)"
      ]
     },
     "metadata": {},
     "output_type": "display_data"
    },
    {
     "data": {
      "image/png": "[encoded data removed]",
      "text/plain": [
       "<Figure size 640x480 with 2 Axes>"
      ]
     },
     "metadata": {},
     "output_type": "display_data"
    },
    {
     "name": "stdout",
     "output_type": "stream",
     "text": [
      "              precision    recall  f1-score   support\n",
      "\n",
      "          -1       0.53      0.30      0.38       207\n",
      "           1       0.54      0.76      0.63       229\n",
      "\n",
      "    accuracy                           0.54       436\n",
      "   macro avg       0.53      0.53      0.51       436\n",
      "weighted avg       0.54      0.54      0.51       436\n",
      "\n"
     ]
    }
   ],
   "source": [
    "# Before tuning:\n",
    "#               precision    recall  f1-score   support\n",
    "# \n",
    "#           -1       0.47      0.49      0.48       207\n",
    "#            1       0.52      0.49      0.50       229\n",
    "# \n",
    "#     accuracy                           0.49       436\n",
    "#    macro avg       0.49      0.49      0.49       436\n",
    "# weighted avg       0.49      0.49      0.49       436\n",
    "# \n",
    "# Tuned parameters yield about 10.2% increase in accuracy\n",
    "rf_clf = rf(n_estimators=35, criterion='entropy', max_depth=13, min_samples_split=15, min_samples_leaf=1, max_features='sqrt', max_leaf_nodes=20, random_state=42)\n",
    "apply_RF(rf_clf, X_train_one, y_train_one, X_test_one, y_test_one)"
   ]
  },
  {
   "cell_type": "code",
   "execution_count": 376,
   "metadata": {},
   "outputs": [
    {
     "data": {
      "text/html": [
       "<style>#sk-container-id-222 {color: black;}#sk-container-id-222 pre{padding: 0;}#sk-container-id-222 div.sk-toggleable {background-color: white;}#sk-container-id-222 label.sk-toggleable__label {cursor: pointer;display: block;width: 100%;margin-bottom: 0;padding: 0.3em;box-sizing: border-box;text-align: center;}#sk-container-id-222 label.sk-toggleable__label-arrow:before {content: \"▸\";float: left;margin-right: 0.25em;color: #696969;}#sk-container-id-222 label.sk-toggleable__label-arrow:hover:before {color: black;}#sk-container-id-222 div.sk-estimator:hover label.sk-toggleable__label-arrow:before {color: black;}#sk-container-id-222 div.sk-toggleable__content {max-height: 0;max-width: 0;overflow: hidden;text-align: left;background-color: #f0f8ff;}#sk-container-id-222 div.sk-toggleable__content pre {margin: 0.2em;color: black;border-radius: 0.25em;background-color: #f0f8ff;}#sk-container-id-222 input.sk-toggleable__control:checked~div.sk-toggleable__content {max-height: 200px;max-width: 100%;overflow: auto;}#sk-container-id-222 input.sk-toggleable__control:checked~label.sk-toggleable__label-arrow:before {content: \"▾\";}#sk-container-id-222 div.sk-estimator input.sk-toggleable__control:checked~label.sk-toggleable__label {background-color: #d4ebff;}#sk-container-id-222 div.sk-label input.sk-toggleable__control:checked~label.sk-toggleable__label {background-color: #d4ebff;}#sk-container-id-222 input.sk-hidden--visually {border: 0;clip: rect(1px 1px 1px 1px);clip: rect(1px, 1px, 1px, 1px);height: 1px;margin: -1px;overflow: hidden;padding: 0;position: absolute;width: 1px;}#sk-container-id-222 div.sk-estimator {font-family: monospace;background-color: #f0f8ff;border: 1px dotted black;border-radius: 0.25em;box-sizing: border-box;margin-bottom: 0.5em;}#sk-container-id-222 div.sk-estimator:hover {background-color: #d4ebff;}#sk-container-id-222 div.sk-parallel-item::after {content: \"\";width: 100%;border-bottom: 1px solid gray;flex-grow: 1;}#sk-container-id-222 div.sk-label:hover label.sk-toggleable__label {background-color: #d4ebff;}#sk-container-id-222 div.sk-serial::before {content: \"\";position: absolute;border-left: 1px solid gray;box-sizing: border-box;top: 0;bottom: 0;left: 50%;z-index: 0;}#sk-container-id-222 div.sk-serial {display: flex;flex-direction: column;align-items: center;background-color: white;padding-right: 0.2em;padding-left: 0.2em;position: relative;}#sk-container-id-222 div.sk-item {position: relative;z-index: 1;}#sk-container-id-222 div.sk-parallel {display: flex;align-items: stretch;justify-content: center;background-color: white;position: relative;}#sk-container-id-222 div.sk-item::before, #sk-container-id-222 div.sk-parallel-item::before {content: \"\";position: absolute;border-left: 1px solid gray;box-sizing: border-box;top: 0;bottom: 0;left: 50%;z-index: -1;}#sk-container-id-222 div.sk-parallel-item {display: flex;flex-direction: column;z-index: 1;position: relative;background-color: white;}#sk-container-id-222 div.sk-parallel-item:first-child::after {align-self: flex-end;width: 50%;}#sk-container-id-222 div.sk-parallel-item:last-child::after {align-self: flex-start;width: 50%;}#sk-container-id-222 div.sk-parallel-item:only-child::after {width: 0;}#sk-container-id-222 div.sk-dashed-wrapped {border: 1px dashed gray;margin: 0 0.4em 0.5em 0.4em;box-sizing: border-box;padding-bottom: 0.4em;background-color: white;}#sk-container-id-222 div.sk-label label {font-family: monospace;font-weight: bold;display: inline-block;line-height: 1.2em;}#sk-container-id-222 div.sk-label-container {text-align: center;}#sk-container-id-222 div.sk-container {/* jupyter's `normalize.less` sets `[hidden] { display: none; }` but bootstrap.min.css set `[hidden] { display: none !important; }` so we also need the `!important` here to be able to override the default hidden behavior on the sphinx rendered scikit-learn.org. See: https://github.com/scikit-learn/scikit-learn/issues/21755 */display: inline-block !important;position: relative;}#sk-container-id-222 div.sk-text-repr-fallback {display: none;}</style><div id=\"sk-container-id-222\" class=\"sk-top-container\"><div class=\"sk-text-repr-fallback\"><pre>RandomForestClassifier(random_state=42)</pre><b>In a Jupyter environment, please rerun this cell to show the HTML representation or trust the notebook. <br />On GitHub, the HTML representation is unable to render, please try loading this page with nbviewer.org.</b></div><div class=\"sk-container\" hidden><div class=\"sk-item\"><div class=\"sk-estimator sk-toggleable\"><input class=\"sk-toggleable__control sk-hidden--visually\" id=\"sk-estimator-id-222\" type=\"checkbox\" checked><label for=\"sk-estimator-id-222\" class=\"sk-toggleable__label sk-toggleable__label-arrow\">RandomForestClassifier</label><div class=\"sk-toggleable__content\"><pre>RandomForestClassifier(random_state=42)</pre></div></div></div></div></div>"
      ],
      "text/plain": [
       "RandomForestClassifier(random_state=42)"
      ]
     },
     "metadata": {},
     "output_type": "display_data"
    },
    {
     "data": {
      "image/png": "[encoded data removed]",
      "text/plain": [
       "<Figure size 640x480 with 2 Axes>"
      ]
     },
     "metadata": {},
     "output_type": "display_data"
    },
    {
     "name": "stdout",
     "output_type": "stream",
     "text": [
      "              precision    recall  f1-score   support\n",
      "\n",
      "          -1       0.74      0.64      0.69        76\n",
      "           1       0.93      0.95      0.94       360\n",
      "\n",
      "    accuracy                           0.90       436\n",
      "   macro avg       0.83      0.80      0.81       436\n",
      "weighted avg       0.89      0.90      0.90       436\n",
      "\n"
     ]
    }
   ],
   "source": [
    "# Before tuning\n",
    "#               precision    recall  f1-score   support\n",
    "# \n",
    "#           -1       0.74      0.64      0.69        76\n",
    "#            1       0.93      0.95      0.94       360\n",
    "# \n",
    "#     accuracy                           0.90       436\n",
    "#    macro avg       0.83      0.80      0.81       436\n",
    "# weighted avg       0.89      0.90      0.90       436\n",
    "# \n",
    "# Tuned parameters yield no increase in accuracy, use default params\n",
    "rf_clf = rf(random_state=42)\n",
    "apply_RF(rf_clf, X_train_two, y_train_two, X_test_two, y_test_two)"
   ]
  },
  {
   "cell_type": "markdown",
   "metadata": {},
   "source": [
    "## Gradient Boosting\n",
    "\"Builds an additive model in a forward stage-wise fashion; it allows for the optimization of arbitrary differentiable loss functions.\"\n",
    "- Parameters being tuned:\n",
    "    - 'loss'\n",
    "    - 'learning_rate'\n",
    "    - 'n_estimators'\n",
    "    - 'subsample'\n",
    "    - 'criterion'\n",
    "    - 'min_samples_split'\n",
    "    - 'min_samples_leaf'\n",
    "    - 'max_depth' \n",
    "    - 'max_features'\n",
    "    - 'max_leaf_nodes'                        "
   ]
  },
  {
   "cell_type": "code",
   "execution_count": 377,
   "metadata": {},
   "outputs": [],
   "source": [
    "def apply_GB(gb_clf: gb, X_train: np.ndarray, y_train: np.ndarray, X_test: np.ndarray, y_test: np.ndarray) -> None:\n",
    "    \"\"\"\n",
    "    Apply Gradient Boosting (GB) classifier, generate predictions, and evaluate the model.\n",
    "    \"\"\"\n",
    "    if isinstance(gb_clf, gb):\n",
    "        fitted_gb = gb_clf.fit(X_train, y_train)\n",
    "        display(fitted_gb)\n",
    "        predictions_gb = fitted_gb.predict(X_test)\n",
    "        cm = confusion_matrix(y_test, predictions_gb)\n",
    "        disp = ConfusionMatrixDisplay(confusion_matrix=cm, display_labels=[-1, 1])\n",
    "        disp.plot()\n",
    "        plt.show()\n",
    "        print(classification_report(y_test, predictions_gb))\n",
    "    else:\n",
    "        raise ValueError('gb_clf must be an instance of GradientBoostingClassifier')"
   ]
  },
  {
   "cell_type": "code",
   "execution_count": 378,
   "metadata": {},
   "outputs": [
    {
     "name": "stdout",
     "output_type": "stream",
     "text": [
      "Strategy One:\n",
      "Best Param: OrderedDict([('criterion', 'friedman_mse'), ('learning_rate', 0.11143633563866855), ('loss', 'exponential'), ('max_depth', 2), ('max_features', 'log2'), ('max_leaf_nodes', 17), ('min_samples_leaf', 17), ('min_samples_split', 5), ('n_estimators', 180), ('subsample', 0.9770903069649078)])\n",
      "Best Score: 0.553896189441096\n",
      "\n",
      "Strategy Two:\n",
      "Best Param: OrderedDict([('criterion', 'friedman_mse'), ('learning_rate', 0.803844550080611), ('loss', 'exponential'), ('max_depth', 17), ('max_features', 'log2'), ('max_leaf_nodes', 2), ('min_samples_leaf', 1), ('min_samples_split', 20), ('n_estimators', 300), ('subsample', 1.0)])\n",
      "Best Score: 0.876145308434608\n"
     ]
    }
   ],
   "source": [
    "gb_clf = gb(random_state=42)\n",
    "gb_params = {\n",
    "    'loss': ['log_loss', 'exponential'],\n",
    "    'learning_rate': (0.1, 1.0),\n",
    "    'n_estimators': list(range(5, 301, 5)),\n",
    "    'subsample': (0.1, 1.0),\n",
    "    'criterion': ['friedman_mse', 'squared_error'],\n",
    "    'min_samples_split': (2, 20),\n",
    "    'min_samples_leaf': (1, 20),\n",
    "    'max_depth': (1, 20),\n",
    "    'max_features': ['sqrt', 'log2'],\n",
    "    'max_leaf_nodes': (2, 20)\n",
    "}\n",
    "print('Strategy One:')\n",
    "hypertune_Model(gb_clf, gb_params, X_train_one, y_train_one)\n",
    "print('\\nStrategy Two:')\n",
    "hypertune_Model(gb_clf, gb_params, X_train_two, y_train_two)"
   ]
  },
  {
   "cell_type": "code",
   "execution_count": 379,
   "metadata": {},
   "outputs": [
    {
     "data": {
      "text/html": [
       "<style>#sk-container-id-223 {color: black;}#sk-container-id-223 pre{padding: 0;}#sk-container-id-223 div.sk-toggleable {background-color: white;}#sk-container-id-223 label.sk-toggleable__label {cursor: pointer;display: block;width: 100%;margin-bottom: 0;padding: 0.3em;box-sizing: border-box;text-align: center;}#sk-container-id-223 label.sk-toggleable__label-arrow:before {content: \"▸\";float: left;margin-right: 0.25em;color: #696969;}#sk-container-id-223 label.sk-toggleable__label-arrow:hover:before {color: black;}#sk-container-id-223 div.sk-estimator:hover label.sk-toggleable__label-arrow:before {color: black;}#sk-container-id-223 div.sk-toggleable__content {max-height: 0;max-width: 0;overflow: hidden;text-align: left;background-color: #f0f8ff;}#sk-container-id-223 div.sk-toggleable__content pre {margin: 0.2em;color: black;border-radius: 0.25em;background-color: #f0f8ff;}#sk-container-id-223 input.sk-toggleable__control:checked~div.sk-toggleable__content {max-height: 200px;max-width: 100%;overflow: auto;}#sk-container-id-223 input.sk-toggleable__control:checked~label.sk-toggleable__label-arrow:before {content: \"▾\";}#sk-container-id-223 div.sk-estimator input.sk-toggleable__control:checked~label.sk-toggleable__label {background-color: #d4ebff;}#sk-container-id-223 div.sk-label input.sk-toggleable__control:checked~label.sk-toggleable__label {background-color: #d4ebff;}#sk-container-id-223 input.sk-hidden--visually {border: 0;clip: rect(1px 1px 1px 1px);clip: rect(1px, 1px, 1px, 1px);height: 1px;margin: -1px;overflow: hidden;padding: 0;position: absolute;width: 1px;}#sk-container-id-223 div.sk-estimator {font-family: monospace;background-color: #f0f8ff;border: 1px dotted black;border-radius: 0.25em;box-sizing: border-box;margin-bottom: 0.5em;}#sk-container-id-223 div.sk-estimator:hover {background-color: #d4ebff;}#sk-container-id-223 div.sk-parallel-item::after {content: \"\";width: 100%;border-bottom: 1px solid gray;flex-grow: 1;}#sk-container-id-223 div.sk-label:hover label.sk-toggleable__label {background-color: #d4ebff;}#sk-container-id-223 div.sk-serial::before {content: \"\";position: absolute;border-left: 1px solid gray;box-sizing: border-box;top: 0;bottom: 0;left: 50%;z-index: 0;}#sk-container-id-223 div.sk-serial {display: flex;flex-direction: column;align-items: center;background-color: white;padding-right: 0.2em;padding-left: 0.2em;position: relative;}#sk-container-id-223 div.sk-item {position: relative;z-index: 1;}#sk-container-id-223 div.sk-parallel {display: flex;align-items: stretch;justify-content: center;background-color: white;position: relative;}#sk-container-id-223 div.sk-item::before, #sk-container-id-223 div.sk-parallel-item::before {content: \"\";position: absolute;border-left: 1px solid gray;box-sizing: border-box;top: 0;bottom: 0;left: 50%;z-index: -1;}#sk-container-id-223 div.sk-parallel-item {display: flex;flex-direction: column;z-index: 1;position: relative;background-color: white;}#sk-container-id-223 div.sk-parallel-item:first-child::after {align-self: flex-end;width: 50%;}#sk-container-id-223 div.sk-parallel-item:last-child::after {align-self: flex-start;width: 50%;}#sk-container-id-223 div.sk-parallel-item:only-child::after {width: 0;}#sk-container-id-223 div.sk-dashed-wrapped {border: 1px dashed gray;margin: 0 0.4em 0.5em 0.4em;box-sizing: border-box;padding-bottom: 0.4em;background-color: white;}#sk-container-id-223 div.sk-label label {font-family: monospace;font-weight: bold;display: inline-block;line-height: 1.2em;}#sk-container-id-223 div.sk-label-container {text-align: center;}#sk-container-id-223 div.sk-container {/* jupyter's `normalize.less` sets `[hidden] { display: none; }` but bootstrap.min.css set `[hidden] { display: none !important; }` so we also need the `!important` here to be able to override the default hidden behavior on the sphinx rendered scikit-learn.org. See: https://github.com/scikit-learn/scikit-learn/issues/21755 */display: inline-block !important;position: relative;}#sk-container-id-223 div.sk-text-repr-fallback {display: none;}</style><div id=\"sk-container-id-223\" class=\"sk-top-container\"><div class=\"sk-text-repr-fallback\"><pre>GradientBoostingClassifier(learning_rate=0.11143633563866855,\n",
       "                           loss=&#x27;exponential&#x27;, max_depth=2, max_features=&#x27;log2&#x27;,\n",
       "                           max_leaf_nodes=17, min_samples_leaf=17,\n",
       "                           min_samples_split=5, n_estimators=180,\n",
       "                           random_state=42, subsample=0.9770903069649078)</pre><b>In a Jupyter environment, please rerun this cell to show the HTML representation or trust the notebook. <br />On GitHub, the HTML representation is unable to render, please try loading this page with nbviewer.org.</b></div><div class=\"sk-container\" hidden><div class=\"sk-item\"><div class=\"sk-estimator sk-toggleable\"><input class=\"sk-toggleable__control sk-hidden--visually\" id=\"sk-estimator-id-223\" type=\"checkbox\" checked><label for=\"sk-estimator-id-223\" class=\"sk-toggleable__label sk-toggleable__label-arrow\">GradientBoostingClassifier</label><div class=\"sk-toggleable__content\"><pre>GradientBoostingClassifier(learning_rate=0.11143633563866855,\n",
       "                           loss=&#x27;exponential&#x27;, max_depth=2, max_features=&#x27;log2&#x27;,\n",
       "                           max_leaf_nodes=17, min_samples_leaf=17,\n",
       "                           min_samples_split=5, n_estimators=180,\n",
       "                           random_state=42, subsample=0.9770903069649078)</pre></div></div></div></div></div>"
      ],
      "text/plain": [
       "GradientBoostingClassifier(learning_rate=0.11143633563866855,\n",
       "                           loss='exponential', max_depth=2, max_features='log2',\n",
       "                           max_leaf_nodes=17, min_samples_leaf=17,\n",
       "                           min_samples_split=5, n_estimators=180,\n",
       "                           random_state=42, subsample=0.9770903069649078)"
      ]
     },
     "metadata": {},
     "output_type": "display_data"
    },
    {
     "data": {
      "image/png": "[encoded data removed]",
      "text/plain": [
       "<Figure size 640x480 with 2 Axes>"
      ]
     },
     "metadata": {},
     "output_type": "display_data"
    },
    {
     "name": "stdout",
     "output_type": "stream",
     "text": [
      "              precision    recall  f1-score   support\n",
      "\n",
      "          -1       0.51      0.37      0.43       207\n",
      "           1       0.55      0.68      0.61       229\n",
      "\n",
      "    accuracy                           0.53       436\n",
      "   macro avg       0.53      0.53      0.52       436\n",
      "weighted avg       0.53      0.53      0.52       436\n",
      "\n"
     ]
    }
   ],
   "source": [
    "# Before tuning\n",
    "#               precision    recall  f1-score   support\n",
    "# \n",
    "#           -1       0.47      0.29      0.36       207\n",
    "#            1       0.52      0.70      0.60       229\n",
    "# \n",
    "#     accuracy                           0.51       436\n",
    "#    macro avg       0.50      0.50      0.48       436\n",
    "# weighted avg       0.50      0.51      0.49       436\n",
    "# \n",
    "# Tuned parameters yield about 3.9% increase in accuracy\n",
    "gb_clf = gb(loss='exponential', learning_rate=0.11143633563866855, n_estimators=180, subsample=0.9770903069649078, criterion='friedman_mse', min_samples_split=5, min_samples_leaf=17, max_depth=2, max_features='log2', max_leaf_nodes=17, random_state=42)\n",
    "apply_GB(gb_clf, X_train_one, y_train_one, X_test_one, y_test_one)"
   ]
  },
  {
   "cell_type": "code",
   "execution_count": 380,
   "metadata": {},
   "outputs": [
    {
     "data": {
      "text/html": [
       "<style>#sk-container-id-224 {color: black;}#sk-container-id-224 pre{padding: 0;}#sk-container-id-224 div.sk-toggleable {background-color: white;}#sk-container-id-224 label.sk-toggleable__label {cursor: pointer;display: block;width: 100%;margin-bottom: 0;padding: 0.3em;box-sizing: border-box;text-align: center;}#sk-container-id-224 label.sk-toggleable__label-arrow:before {content: \"▸\";float: left;margin-right: 0.25em;color: #696969;}#sk-container-id-224 label.sk-toggleable__label-arrow:hover:before {color: black;}#sk-container-id-224 div.sk-estimator:hover label.sk-toggleable__label-arrow:before {color: black;}#sk-container-id-224 div.sk-toggleable__content {max-height: 0;max-width: 0;overflow: hidden;text-align: left;background-color: #f0f8ff;}#sk-container-id-224 div.sk-toggleable__content pre {margin: 0.2em;color: black;border-radius: 0.25em;background-color: #f0f8ff;}#sk-container-id-224 input.sk-toggleable__control:checked~div.sk-toggleable__content {max-height: 200px;max-width: 100%;overflow: auto;}#sk-container-id-224 input.sk-toggleable__control:checked~label.sk-toggleable__label-arrow:before {content: \"▾\";}#sk-container-id-224 div.sk-estimator input.sk-toggleable__control:checked~label.sk-toggleable__label {background-color: #d4ebff;}#sk-container-id-224 div.sk-label input.sk-toggleable__control:checked~label.sk-toggleable__label {background-color: #d4ebff;}#sk-container-id-224 input.sk-hidden--visually {border: 0;clip: rect(1px 1px 1px 1px);clip: rect(1px, 1px, 1px, 1px);height: 1px;margin: -1px;overflow: hidden;padding: 0;position: absolute;width: 1px;}#sk-container-id-224 div.sk-estimator {font-family: monospace;background-color: #f0f8ff;border: 1px dotted black;border-radius: 0.25em;box-sizing: border-box;margin-bottom: 0.5em;}#sk-container-id-224 div.sk-estimator:hover {background-color: #d4ebff;}#sk-container-id-224 div.sk-parallel-item::after {content: \"\";width: 100%;border-bottom: 1px solid gray;flex-grow: 1;}#sk-container-id-224 div.sk-label:hover label.sk-toggleable__label {background-color: #d4ebff;}#sk-container-id-224 div.sk-serial::before {content: \"\";position: absolute;border-left: 1px solid gray;box-sizing: border-box;top: 0;bottom: 0;left: 50%;z-index: 0;}#sk-container-id-224 div.sk-serial {display: flex;flex-direction: column;align-items: center;background-color: white;padding-right: 0.2em;padding-left: 0.2em;position: relative;}#sk-container-id-224 div.sk-item {position: relative;z-index: 1;}#sk-container-id-224 div.sk-parallel {display: flex;align-items: stretch;justify-content: center;background-color: white;position: relative;}#sk-container-id-224 div.sk-item::before, #sk-container-id-224 div.sk-parallel-item::before {content: \"\";position: absolute;border-left: 1px solid gray;box-sizing: border-box;top: 0;bottom: 0;left: 50%;z-index: -1;}#sk-container-id-224 div.sk-parallel-item {display: flex;flex-direction: column;z-index: 1;position: relative;background-color: white;}#sk-container-id-224 div.sk-parallel-item:first-child::after {align-self: flex-end;width: 50%;}#sk-container-id-224 div.sk-parallel-item:last-child::after {align-self: flex-start;width: 50%;}#sk-container-id-224 div.sk-parallel-item:only-child::after {width: 0;}#sk-container-id-224 div.sk-dashed-wrapped {border: 1px dashed gray;margin: 0 0.4em 0.5em 0.4em;box-sizing: border-box;padding-bottom: 0.4em;background-color: white;}#sk-container-id-224 div.sk-label label {font-family: monospace;font-weight: bold;display: inline-block;line-height: 1.2em;}#sk-container-id-224 div.sk-label-container {text-align: center;}#sk-container-id-224 div.sk-container {/* jupyter's `normalize.less` sets `[hidden] { display: none; }` but bootstrap.min.css set `[hidden] { display: none !important; }` so we also need the `!important` here to be able to override the default hidden behavior on the sphinx rendered scikit-learn.org. See: https://github.com/scikit-learn/scikit-learn/issues/21755 */display: inline-block !important;position: relative;}#sk-container-id-224 div.sk-text-repr-fallback {display: none;}</style><div id=\"sk-container-id-224\" class=\"sk-top-container\"><div class=\"sk-text-repr-fallback\"><pre>GradientBoostingClassifier(learning_rate=0.803844550080611, loss=&#x27;exponential&#x27;,\n",
       "                           max_depth=17, max_features=&#x27;log2&#x27;, max_leaf_nodes=2,\n",
       "                           min_samples_split=20, n_estimators=300,\n",
       "                           random_state=42)</pre><b>In a Jupyter environment, please rerun this cell to show the HTML representation or trust the notebook. <br />On GitHub, the HTML representation is unable to render, please try loading this page with nbviewer.org.</b></div><div class=\"sk-container\" hidden><div class=\"sk-item\"><div class=\"sk-estimator sk-toggleable\"><input class=\"sk-toggleable__control sk-hidden--visually\" id=\"sk-estimator-id-224\" type=\"checkbox\" checked><label for=\"sk-estimator-id-224\" class=\"sk-toggleable__label sk-toggleable__label-arrow\">GradientBoostingClassifier</label><div class=\"sk-toggleable__content\"><pre>GradientBoostingClassifier(learning_rate=0.803844550080611, loss=&#x27;exponential&#x27;,\n",
       "                           max_depth=17, max_features=&#x27;log2&#x27;, max_leaf_nodes=2,\n",
       "                           min_samples_split=20, n_estimators=300,\n",
       "                           random_state=42)</pre></div></div></div></div></div>"
      ],
      "text/plain": [
       "GradientBoostingClassifier(learning_rate=0.803844550080611, loss='exponential',\n",
       "                           max_depth=17, max_features='log2', max_leaf_nodes=2,\n",
       "                           min_samples_split=20, n_estimators=300,\n",
       "                           random_state=42)"
      ]
     },
     "metadata": {},
     "output_type": "display_data"
    },
    {
     "data": {
      "image/png": "[encoded data removed]",
      "text/plain": [
       "<Figure size 640x480 with 2 Axes>"
      ]
     },
     "metadata": {},
     "output_type": "display_data"
    },
    {
     "name": "stdout",
     "output_type": "stream",
     "text": [
      "              precision    recall  f1-score   support\n",
      "\n",
      "          -1       0.67      0.67      0.67        76\n",
      "           1       0.93      0.93      0.93       360\n",
      "\n",
      "    accuracy                           0.89       436\n",
      "   macro avg       0.80      0.80      0.80       436\n",
      "weighted avg       0.89      0.89      0.89       436\n",
      "\n"
     ]
    }
   ],
   "source": [
    "# Before tuning:\n",
    "#               precision    recall  f1-score   support\n",
    "# \n",
    "#           -1       0.65      0.58      0.61        76\n",
    "#            1       0.91      0.93      0.92       360\n",
    "# \n",
    "#     accuracy                           0.87       436\n",
    "#    macro avg       0.78      0.76      0.77       436\n",
    "# weighted avg       0.87      0.87      0.87       436\n",
    "# \n",
    "# Tuned parameters yield about 2.3% increase in accuracy\n",
    "gb_clf = gb(loss='exponential', learning_rate=0.803844550080611, n_estimators=300, subsample=1.0, criterion='friedman_mse', min_samples_split=20, min_samples_leaf=1, max_depth=17, max_features='log2', max_leaf_nodes=2, random_state=42)\n",
    "apply_GB(gb_clf, X_train_two, y_train_two, X_test_two, y_test_two)"
   ]
  },
  {
   "cell_type": "markdown",
   "metadata": {},
   "source": [
    "## Support Vector Machines\n",
    "\"A set of supervised learning methods used for classification, regression and outliers detection.\"\n",
    "- Parameters being tuned:\n",
    "    - 'C'\n",
    "    - 'kernel'\n",
    "    - gamma'"
   ]
  },
  {
   "cell_type": "code",
   "execution_count": 381,
   "metadata": {},
   "outputs": [],
   "source": [
    "def apply_SVM(svm_clf: svm, X_train: np.ndarray, y_train: np.ndarray, X_test: np.ndarray, y_test: np.ndarray) -> None:\n",
    "    \"\"\"\n",
    "    Apply Support Vector Machine (SVM or SVC) classifier, generate predictions, and evaluate the model.\n",
    "    \"\"\"\n",
    "    if isinstance(svm_clf, svm):\n",
    "        fitted_svm = svm_clf.fit(X_train, y_train)\n",
    "        display(fitted_svm)\n",
    "        predictions_svm = fitted_svm.predict(X_test)\n",
    "        cm = confusion_matrix(y_test, predictions_svm)\n",
    "        disp = ConfusionMatrixDisplay(confusion_matrix=cm, display_labels=[-1, 1])\n",
    "        disp.plot()\n",
    "        plt.show()\n",
    "        print(classification_report(y_test, predictions_svm))\n",
    "    else:\n",
    "        raise ValueError('svm_clf must be an instance of Support Vector Classification or SVC')"
   ]
  },
  {
   "cell_type": "code",
   "execution_count": 382,
   "metadata": {},
   "outputs": [
    {
     "name": "stdout",
     "output_type": "stream",
     "text": [
      "Strategy One:\n",
      "Best Param: OrderedDict([('C', 35.58278546038026), ('gamma', 0.0001), ('kernel', 'rbf')])\n",
      "Best Score: 0.5395613081711292\n",
      "\n",
      "Strategy Two:\n",
      "Best Param: OrderedDict([('C', 99.72520883810215), ('gamma', 0.000379475861894686), ('kernel', 'rbf')])\n",
      "Best Score: 0.8870500279945986\n"
     ]
    }
   ],
   "source": [
    "svm_clf = svm(random_state=42)\n",
    "svm_params = {\n",
    "    'C': (1e-4, 1e+2, 'log-uniform'),  \n",
    "    'kernel': ['rbf'],  \n",
    "    'gamma': (1e-4, 1e+2, 'log-uniform'),\n",
    "}\n",
    "print('Strategy One:')\n",
    "hypertune_Model(svm_clf, svm_params, X_train_one, y_train_one)\n",
    "print('\\nStrategy Two:')\n",
    "hypertune_Model(svm_clf, svm_params, X_train_two, y_train_two)"
   ]
  },
  {
   "cell_type": "code",
   "execution_count": 383,
   "metadata": {},
   "outputs": [
    {
     "data": {
      "text/html": [
       "<style>#sk-container-id-225 {color: black;}#sk-container-id-225 pre{padding: 0;}#sk-container-id-225 div.sk-toggleable {background-color: white;}#sk-container-id-225 label.sk-toggleable__label {cursor: pointer;display: block;width: 100%;margin-bottom: 0;padding: 0.3em;box-sizing: border-box;text-align: center;}#sk-container-id-225 label.sk-toggleable__label-arrow:before {content: \"▸\";float: left;margin-right: 0.25em;color: #696969;}#sk-container-id-225 label.sk-toggleable__label-arrow:hover:before {color: black;}#sk-container-id-225 div.sk-estimator:hover label.sk-toggleable__label-arrow:before {color: black;}#sk-container-id-225 div.sk-toggleable__content {max-height: 0;max-width: 0;overflow: hidden;text-align: left;background-color: #f0f8ff;}#sk-container-id-225 div.sk-toggleable__content pre {margin: 0.2em;color: black;border-radius: 0.25em;background-color: #f0f8ff;}#sk-container-id-225 input.sk-toggleable__control:checked~div.sk-toggleable__content {max-height: 200px;max-width: 100%;overflow: auto;}#sk-container-id-225 input.sk-toggleable__control:checked~label.sk-toggleable__label-arrow:before {content: \"▾\";}#sk-container-id-225 div.sk-estimator input.sk-toggleable__control:checked~label.sk-toggleable__label {background-color: #d4ebff;}#sk-container-id-225 div.sk-label input.sk-toggleable__control:checked~label.sk-toggleable__label {background-color: #d4ebff;}#sk-container-id-225 input.sk-hidden--visually {border: 0;clip: rect(1px 1px 1px 1px);clip: rect(1px, 1px, 1px, 1px);height: 1px;margin: -1px;overflow: hidden;padding: 0;position: absolute;width: 1px;}#sk-container-id-225 div.sk-estimator {font-family: monospace;background-color: #f0f8ff;border: 1px dotted black;border-radius: 0.25em;box-sizing: border-box;margin-bottom: 0.5em;}#sk-container-id-225 div.sk-estimator:hover {background-color: #d4ebff;}#sk-container-id-225 div.sk-parallel-item::after {content: \"\";width: 100%;border-bottom: 1px solid gray;flex-grow: 1;}#sk-container-id-225 div.sk-label:hover label.sk-toggleable__label {background-color: #d4ebff;}#sk-container-id-225 div.sk-serial::before {content: \"\";position: absolute;border-left: 1px solid gray;box-sizing: border-box;top: 0;bottom: 0;left: 50%;z-index: 0;}#sk-container-id-225 div.sk-serial {display: flex;flex-direction: column;align-items: center;background-color: white;padding-right: 0.2em;padding-left: 0.2em;position: relative;}#sk-container-id-225 div.sk-item {position: relative;z-index: 1;}#sk-container-id-225 div.sk-parallel {display: flex;align-items: stretch;justify-content: center;background-color: white;position: relative;}#sk-container-id-225 div.sk-item::before, #sk-container-id-225 div.sk-parallel-item::before {content: \"\";position: absolute;border-left: 1px solid gray;box-sizing: border-box;top: 0;bottom: 0;left: 50%;z-index: -1;}#sk-container-id-225 div.sk-parallel-item {display: flex;flex-direction: column;z-index: 1;position: relative;background-color: white;}#sk-container-id-225 div.sk-parallel-item:first-child::after {align-self: flex-end;width: 50%;}#sk-container-id-225 div.sk-parallel-item:last-child::after {align-self: flex-start;width: 50%;}#sk-container-id-225 div.sk-parallel-item:only-child::after {width: 0;}#sk-container-id-225 div.sk-dashed-wrapped {border: 1px dashed gray;margin: 0 0.4em 0.5em 0.4em;box-sizing: border-box;padding-bottom: 0.4em;background-color: white;}#sk-container-id-225 div.sk-label label {font-family: monospace;font-weight: bold;display: inline-block;line-height: 1.2em;}#sk-container-id-225 div.sk-label-container {text-align: center;}#sk-container-id-225 div.sk-container {/* jupyter's `normalize.less` sets `[hidden] { display: none; }` but bootstrap.min.css set `[hidden] { display: none !important; }` so we also need the `!important` here to be able to override the default hidden behavior on the sphinx rendered scikit-learn.org. See: https://github.com/scikit-learn/scikit-learn/issues/21755 */display: inline-block !important;position: relative;}#sk-container-id-225 div.sk-text-repr-fallback {display: none;}</style><div id=\"sk-container-id-225\" class=\"sk-top-container\"><div class=\"sk-text-repr-fallback\"><pre>SVC(random_state=42)</pre><b>In a Jupyter environment, please rerun this cell to show the HTML representation or trust the notebook. <br />On GitHub, the HTML representation is unable to render, please try loading this page with nbviewer.org.</b></div><div class=\"sk-container\" hidden><div class=\"sk-item\"><div class=\"sk-estimator sk-toggleable\"><input class=\"sk-toggleable__control sk-hidden--visually\" id=\"sk-estimator-id-225\" type=\"checkbox\" checked><label for=\"sk-estimator-id-225\" class=\"sk-toggleable__label sk-toggleable__label-arrow\">SVC</label><div class=\"sk-toggleable__content\"><pre>SVC(random_state=42)</pre></div></div></div></div></div>"
      ],
      "text/plain": [
       "SVC(random_state=42)"
      ]
     },
     "metadata": {},
     "output_type": "display_data"
    },
    {
     "data": {
      "image/png": "[encoded data removed]",
      "text/plain": [
       "<Figure size 640x480 with 2 Axes>"
      ]
     },
     "metadata": {},
     "output_type": "display_data"
    },
    {
     "name": "stdout",
     "output_type": "stream",
     "text": [
      "              precision    recall  f1-score   support\n",
      "\n",
      "          -1       0.47      0.17      0.25       207\n",
      "           1       0.52      0.83      0.64       229\n",
      "\n",
      "    accuracy                           0.52       436\n",
      "   macro avg       0.50      0.50      0.45       436\n",
      "weighted avg       0.50      0.52      0.46       436\n",
      "\n"
     ]
    }
   ],
   "source": [
    "#               precision    recall  f1-score   support\n",
    "# \n",
    "#           -1       0.47      0.17      0.25       207\n",
    "#            1       0.52      0.83      0.64       229\n",
    "# \n",
    "#     accuracy                           0.52       436\n",
    "#    macro avg       0.50      0.50      0.45       436\n",
    "# weighted avg       0.50      0.52      0.46       436\n",
    "# \n",
    "# Tuned parameters yield no increase in accuracy, use default params\n",
    "svm_clf = svm(random_state=42)\n",
    "apply_SVM(svm_clf, X_train_one, y_train_one, X_test_one, y_test_one)"
   ]
  },
  {
   "cell_type": "code",
   "execution_count": 384,
   "metadata": {},
   "outputs": [
    {
     "data": {
      "text/html": [
       "<style>#sk-container-id-226 {color: black;}#sk-container-id-226 pre{padding: 0;}#sk-container-id-226 div.sk-toggleable {background-color: white;}#sk-container-id-226 label.sk-toggleable__label {cursor: pointer;display: block;width: 100%;margin-bottom: 0;padding: 0.3em;box-sizing: border-box;text-align: center;}#sk-container-id-226 label.sk-toggleable__label-arrow:before {content: \"▸\";float: left;margin-right: 0.25em;color: #696969;}#sk-container-id-226 label.sk-toggleable__label-arrow:hover:before {color: black;}#sk-container-id-226 div.sk-estimator:hover label.sk-toggleable__label-arrow:before {color: black;}#sk-container-id-226 div.sk-toggleable__content {max-height: 0;max-width: 0;overflow: hidden;text-align: left;background-color: #f0f8ff;}#sk-container-id-226 div.sk-toggleable__content pre {margin: 0.2em;color: black;border-radius: 0.25em;background-color: #f0f8ff;}#sk-container-id-226 input.sk-toggleable__control:checked~div.sk-toggleable__content {max-height: 200px;max-width: 100%;overflow: auto;}#sk-container-id-226 input.sk-toggleable__control:checked~label.sk-toggleable__label-arrow:before {content: \"▾\";}#sk-container-id-226 div.sk-estimator input.sk-toggleable__control:checked~label.sk-toggleable__label {background-color: #d4ebff;}#sk-container-id-226 div.sk-label input.sk-toggleable__control:checked~label.sk-toggleable__label {background-color: #d4ebff;}#sk-container-id-226 input.sk-hidden--visually {border: 0;clip: rect(1px 1px 1px 1px);clip: rect(1px, 1px, 1px, 1px);height: 1px;margin: -1px;overflow: hidden;padding: 0;position: absolute;width: 1px;}#sk-container-id-226 div.sk-estimator {font-family: monospace;background-color: #f0f8ff;border: 1px dotted black;border-radius: 0.25em;box-sizing: border-box;margin-bottom: 0.5em;}#sk-container-id-226 div.sk-estimator:hover {background-color: #d4ebff;}#sk-container-id-226 div.sk-parallel-item::after {content: \"\";width: 100%;border-bottom: 1px solid gray;flex-grow: 1;}#sk-container-id-226 div.sk-label:hover label.sk-toggleable__label {background-color: #d4ebff;}#sk-container-id-226 div.sk-serial::before {content: \"\";position: absolute;border-left: 1px solid gray;box-sizing: border-box;top: 0;bottom: 0;left: 50%;z-index: 0;}#sk-container-id-226 div.sk-serial {display: flex;flex-direction: column;align-items: center;background-color: white;padding-right: 0.2em;padding-left: 0.2em;position: relative;}#sk-container-id-226 div.sk-item {position: relative;z-index: 1;}#sk-container-id-226 div.sk-parallel {display: flex;align-items: stretch;justify-content: center;background-color: white;position: relative;}#sk-container-id-226 div.sk-item::before, #sk-container-id-226 div.sk-parallel-item::before {content: \"\";position: absolute;border-left: 1px solid gray;box-sizing: border-box;top: 0;bottom: 0;left: 50%;z-index: -1;}#sk-container-id-226 div.sk-parallel-item {display: flex;flex-direction: column;z-index: 1;position: relative;background-color: white;}#sk-container-id-226 div.sk-parallel-item:first-child::after {align-self: flex-end;width: 50%;}#sk-container-id-226 div.sk-parallel-item:last-child::after {align-self: flex-start;width: 50%;}#sk-container-id-226 div.sk-parallel-item:only-child::after {width: 0;}#sk-container-id-226 div.sk-dashed-wrapped {border: 1px dashed gray;margin: 0 0.4em 0.5em 0.4em;box-sizing: border-box;padding-bottom: 0.4em;background-color: white;}#sk-container-id-226 div.sk-label label {font-family: monospace;font-weight: bold;display: inline-block;line-height: 1.2em;}#sk-container-id-226 div.sk-label-container {text-align: center;}#sk-container-id-226 div.sk-container {/* jupyter's `normalize.less` sets `[hidden] { display: none; }` but bootstrap.min.css set `[hidden] { display: none !important; }` so we also need the `!important` here to be able to override the default hidden behavior on the sphinx rendered scikit-learn.org. See: https://github.com/scikit-learn/scikit-learn/issues/21755 */display: inline-block !important;position: relative;}#sk-container-id-226 div.sk-text-repr-fallback {display: none;}</style><div id=\"sk-container-id-226\" class=\"sk-top-container\"><div class=\"sk-text-repr-fallback\"><pre>SVC(C=99.72520883810215, gamma=0.000379475861894686, random_state=42)</pre><b>In a Jupyter environment, please rerun this cell to show the HTML representation or trust the notebook. <br />On GitHub, the HTML representation is unable to render, please try loading this page with nbviewer.org.</b></div><div class=\"sk-container\" hidden><div class=\"sk-item\"><div class=\"sk-estimator sk-toggleable\"><input class=\"sk-toggleable__control sk-hidden--visually\" id=\"sk-estimator-id-226\" type=\"checkbox\" checked><label for=\"sk-estimator-id-226\" class=\"sk-toggleable__label sk-toggleable__label-arrow\">SVC</label><div class=\"sk-toggleable__content\"><pre>SVC(C=99.72520883810215, gamma=0.000379475861894686, random_state=42)</pre></div></div></div></div></div>"
      ],
      "text/plain": [
       "SVC(C=99.72520883810215, gamma=0.000379475861894686, random_state=42)"
      ]
     },
     "metadata": {},
     "output_type": "display_data"
    },
    {
     "data": {
      "image/png": "[encoded data removed]",
      "text/plain": [
       "<Figure size 640x480 with 2 Axes>"
      ]
     },
     "metadata": {},
     "output_type": "display_data"
    },
    {
     "name": "stdout",
     "output_type": "stream",
     "text": [
      "              precision    recall  f1-score   support\n",
      "\n",
      "          -1       0.85      0.62      0.72        76\n",
      "           1       0.92      0.98      0.95       360\n",
      "\n",
      "    accuracy                           0.92       436\n",
      "   macro avg       0.89      0.80      0.83       436\n",
      "weighted avg       0.91      0.92      0.91       436\n",
      "\n"
     ]
    }
   ],
   "source": [
    "#               precision    recall  f1-score   support\n",
    "# \n",
    "#           -1       0.65      0.37      0.47        76\n",
    "#            1       0.88      0.96      0.92       360\n",
    "# \n",
    "#     accuracy                           0.86       436\n",
    "#    macro avg       0.76      0.66      0.69       436\n",
    "# weighted avg       0.84      0.86      0.84       436\n",
    "# \n",
    "# Tuned parameters yield about 6.9% increase in accuracy\n",
    "svm_clf = svm(C=99.72520883810215, kernel='rbf', gamma=0.000379475861894686, random_state=42)\n",
    "apply_SVM(svm_clf, X_train_two, y_train_two, X_test_two, y_test_two)"
   ]
  },
  {
   "cell_type": "markdown",
   "metadata": {},
   "source": [
    "## XGBoost\n",
    "\"An optimized distributed gradient boosting library designed to be highly efficient, flexible and portable.\"\n",
    "- Parameters being tuned:\n",
    "    - 'eta'\n",
    "    - 'n_estimators'\n",
    "    - 'max_depth' \n",
    "    - 'gamma'\n",
    "    - 'subsample'\n",
    "    - 'min_child_weight'"
   ]
  },
  {
   "cell_type": "code",
   "execution_count": 385,
   "metadata": {},
   "outputs": [],
   "source": [
    "def apply_XGB(xgb_clf: xgb, X_train: np.ndarray, y_train: np.ndarray, X_test: np.ndarray, y_test: np.ndarray) -> None:\n",
    "    \"\"\"\n",
    "    Apply eXtreme Gradient Boosting (XGBoost or XGB) classifier, generate predictions, and evaluate the model.\n",
    "    \"\"\"\n",
    "    if isinstance(xgb_clf, xgb):\n",
    "        y_train_xgb = np.where(y_train == -1, 0, y_train)\n",
    "        y_test_xgb = np.where(y_test == -1, 0, y_test)\n",
    "        fitted_xgb = xgb_clf.fit(X_train, y_train_xgb)\n",
    "        display(fitted_xgb)\n",
    "        predictions_xgb = fitted_xgb.predict(X_test)\n",
    "        cm = confusion_matrix(y_test_xgb, predictions_xgb)\n",
    "        disp = ConfusionMatrixDisplay(confusion_matrix=cm, display_labels=[0, 1])\n",
    "        disp.plot()\n",
    "        plt.show()\n",
    "        print(classification_report(y_test_xgb, predictions_xgb))\n",
    "    else:\n",
    "        raise ValueError('xgb_clf must be an instance of XGBClassifier')"
   ]
  },
  {
   "cell_type": "code",
   "execution_count": 386,
   "metadata": {},
   "outputs": [
    {
     "name": "stdout",
     "output_type": "stream",
     "text": [
      "Strategy One:\n",
      "Best Param: OrderedDict([('eta', 0.4076112303531503), ('gamma', 0.18791980100903388), ('max_depth', 1), ('min_child_weight', 1), ('n_estimators', 120), ('subsample', 0.8254396401182723)])\n",
      "Best Score: 0.5424365181306194\n",
      "\n",
      "Strategy Two:\n",
      "Best Param: OrderedDict([('eta', 0.15225695434966804), ('gamma', 0.24120056438052023), ('max_depth', 1), ('min_child_weight', 1), ('n_estimators', 100), ('subsample', 0.7065883227831513)])\n",
      "Best Score: 0.8744310509501695\n"
     ]
    }
   ],
   "source": [
    "xgb_clf = xgb(random_state=42)\n",
    "xgb_params = {\n",
    "    'eta': (0.1, 1.0),\n",
    "    'n_estimators': list(range(5, 301, 5)),  \n",
    "    'max_depth': (1, 20), \n",
    "    'gamma': (0.1, 1.0),\n",
    "    'subsample': (0.1, 1.0),\n",
    "    'min_child_weight': (1, 20)\n",
    "}\n",
    "y_train_xgb = np.where(y_train_one == -1, 0, y_train_one)\n",
    "print('Strategy One:')\n",
    "hypertune_Model(xgb_clf, xgb_params, X_train_one, y_train_xgb)\n",
    "y_train_xgb = np.where(y_train_two == -1, 0, y_train_two)\n",
    "print('\\nStrategy Two:')\n",
    "hypertune_Model(xgb_clf, xgb_params, X_train_two, y_train_xgb)"
   ]
  },
  {
   "cell_type": "code",
   "execution_count": 387,
   "metadata": {},
   "outputs": [
    {
     "data": {
      "text/html": [
       "<style>#sk-container-id-227 {color: black;}#sk-container-id-227 pre{padding: 0;}#sk-container-id-227 div.sk-toggleable {background-color: white;}#sk-container-id-227 label.sk-toggleable__label {cursor: pointer;display: block;width: 100%;margin-bottom: 0;padding: 0.3em;box-sizing: border-box;text-align: center;}#sk-container-id-227 label.sk-toggleable__label-arrow:before {content: \"▸\";float: left;margin-right: 0.25em;color: #696969;}#sk-container-id-227 label.sk-toggleable__label-arrow:hover:before {color: black;}#sk-container-id-227 div.sk-estimator:hover label.sk-toggleable__label-arrow:before {color: black;}#sk-container-id-227 div.sk-toggleable__content {max-height: 0;max-width: 0;overflow: hidden;text-align: left;background-color: #f0f8ff;}#sk-container-id-227 div.sk-toggleable__content pre {margin: 0.2em;color: black;border-radius: 0.25em;background-color: #f0f8ff;}#sk-container-id-227 input.sk-toggleable__control:checked~div.sk-toggleable__content {max-height: 200px;max-width: 100%;overflow: auto;}#sk-container-id-227 input.sk-toggleable__control:checked~label.sk-toggleable__label-arrow:before {content: \"▾\";}#sk-container-id-227 div.sk-estimator input.sk-toggleable__control:checked~label.sk-toggleable__label {background-color: #d4ebff;}#sk-container-id-227 div.sk-label input.sk-toggleable__control:checked~label.sk-toggleable__label {background-color: #d4ebff;}#sk-container-id-227 input.sk-hidden--visually {border: 0;clip: rect(1px 1px 1px 1px);clip: rect(1px, 1px, 1px, 1px);height: 1px;margin: -1px;overflow: hidden;padding: 0;position: absolute;width: 1px;}#sk-container-id-227 div.sk-estimator {font-family: monospace;background-color: #f0f8ff;border: 1px dotted black;border-radius: 0.25em;box-sizing: border-box;margin-bottom: 0.5em;}#sk-container-id-227 div.sk-estimator:hover {background-color: #d4ebff;}#sk-container-id-227 div.sk-parallel-item::after {content: \"\";width: 100%;border-bottom: 1px solid gray;flex-grow: 1;}#sk-container-id-227 div.sk-label:hover label.sk-toggleable__label {background-color: #d4ebff;}#sk-container-id-227 div.sk-serial::before {content: \"\";position: absolute;border-left: 1px solid gray;box-sizing: border-box;top: 0;bottom: 0;left: 50%;z-index: 0;}#sk-container-id-227 div.sk-serial {display: flex;flex-direction: column;align-items: center;background-color: white;padding-right: 0.2em;padding-left: 0.2em;position: relative;}#sk-container-id-227 div.sk-item {position: relative;z-index: 1;}#sk-container-id-227 div.sk-parallel {display: flex;align-items: stretch;justify-content: center;background-color: white;position: relative;}#sk-container-id-227 div.sk-item::before, #sk-container-id-227 div.sk-parallel-item::before {content: \"\";position: absolute;border-left: 1px solid gray;box-sizing: border-box;top: 0;bottom: 0;left: 50%;z-index: -1;}#sk-container-id-227 div.sk-parallel-item {display: flex;flex-direction: column;z-index: 1;position: relative;background-color: white;}#sk-container-id-227 div.sk-parallel-item:first-child::after {align-self: flex-end;width: 50%;}#sk-container-id-227 div.sk-parallel-item:last-child::after {align-self: flex-start;width: 50%;}#sk-container-id-227 div.sk-parallel-item:only-child::after {width: 0;}#sk-container-id-227 div.sk-dashed-wrapped {border: 1px dashed gray;margin: 0 0.4em 0.5em 0.4em;box-sizing: border-box;padding-bottom: 0.4em;background-color: white;}#sk-container-id-227 div.sk-label label {font-family: monospace;font-weight: bold;display: inline-block;line-height: 1.2em;}#sk-container-id-227 div.sk-label-container {text-align: center;}#sk-container-id-227 div.sk-container {/* jupyter's `normalize.less` sets `[hidden] { display: none; }` but bootstrap.min.css set `[hidden] { display: none !important; }` so we also need the `!important` here to be able to override the default hidden behavior on the sphinx rendered scikit-learn.org. See: https://github.com/scikit-learn/scikit-learn/issues/21755 */display: inline-block !important;position: relative;}#sk-container-id-227 div.sk-text-repr-fallback {display: none;}</style><div id=\"sk-container-id-227\" class=\"sk-top-container\"><div class=\"sk-text-repr-fallback\"><pre>XGBClassifier(base_score=None, booster=None, callbacks=None,\n",
       "              colsample_bylevel=None, colsample_bynode=None,\n",
       "              colsample_bytree=None, device=None, early_stopping_rounds=None,\n",
       "              enable_categorical=False, eta=0.4076112303531503,\n",
       "              eval_metric=None, feature_types=None, gamma=0.18791980100903388,\n",
       "              grow_policy=None, importance_type=None,\n",
       "              interaction_constraints=None, learning_rate=None, max_bin=None,\n",
       "              max_cat_threshold=None, max_cat_to_onehot=None,\n",
       "              max_delta_step=None, max_depth=1, max_leaves=None,\n",
       "              min_child_weight=1, missing=nan, monotone_constraints=None,\n",
       "              multi_strategy=None, n_estimators=120, n_jobs=None,\n",
       "              num_parallel_tree=None, ...)</pre><b>In a Jupyter environment, please rerun this cell to show the HTML representation or trust the notebook. <br />On GitHub, the HTML representation is unable to render, please try loading this page with nbviewer.org.</b></div><div class=\"sk-container\" hidden><div class=\"sk-item\"><div class=\"sk-estimator sk-toggleable\"><input class=\"sk-toggleable__control sk-hidden--visually\" id=\"sk-estimator-id-227\" type=\"checkbox\" checked><label for=\"sk-estimator-id-227\" class=\"sk-toggleable__label sk-toggleable__label-arrow\">XGBClassifier</label><div class=\"sk-toggleable__content\"><pre>XGBClassifier(base_score=None, booster=None, callbacks=None,\n",
       "              colsample_bylevel=None, colsample_bynode=None,\n",
       "              colsample_bytree=None, device=None, early_stopping_rounds=None,\n",
       "              enable_categorical=False, eta=0.4076112303531503,\n",
       "              eval_metric=None, feature_types=None, gamma=0.18791980100903388,\n",
       "              grow_policy=None, importance_type=None,\n",
       "              interaction_constraints=None, learning_rate=None, max_bin=None,\n",
       "              max_cat_threshold=None, max_cat_to_onehot=None,\n",
       "              max_delta_step=None, max_depth=1, max_leaves=None,\n",
       "              min_child_weight=1, missing=nan, monotone_constraints=None,\n",
       "              multi_strategy=None, n_estimators=120, n_jobs=None,\n",
       "              num_parallel_tree=None, ...)</pre></div></div></div></div></div>"
      ],
      "text/plain": [
       "XGBClassifier(base_score=None, booster=None, callbacks=None,\n",
       "              colsample_bylevel=None, colsample_bynode=None,\n",
       "              colsample_bytree=None, device=None, early_stopping_rounds=None,\n",
       "              enable_categorical=False, eta=0.4076112303531503,\n",
       "              eval_metric=None, feature_types=None, gamma=0.18791980100903388,\n",
       "              grow_policy=None, importance_type=None,\n",
       "              interaction_constraints=None, learning_rate=None, max_bin=None,\n",
       "              max_cat_threshold=None, max_cat_to_onehot=None,\n",
       "              max_delta_step=None, max_depth=1, max_leaves=None,\n",
       "              min_child_weight=1, missing=nan, monotone_constraints=None,\n",
       "              multi_strategy=None, n_estimators=120, n_jobs=None,\n",
       "              num_parallel_tree=None, ...)"
      ]
     },
     "metadata": {},
     "output_type": "display_data"
    },
    {
     "data": {
      "image/png": "[encoded data removed]",
      "text/plain": [
       "<Figure size 640x480 with 2 Axes>"
      ]
     },
     "metadata": {},
     "output_type": "display_data"
    },
    {
     "name": "stdout",
     "output_type": "stream",
     "text": [
      "              precision    recall  f1-score   support\n",
      "\n",
      "           0       0.48      0.30      0.37       207\n",
      "           1       0.53      0.70      0.60       229\n",
      "\n",
      "    accuracy                           0.51       436\n",
      "   macro avg       0.50      0.50      0.48       436\n",
      "weighted avg       0.50      0.51      0.49       436\n",
      "\n"
     ]
    }
   ],
   "source": [
    "# Before tuning\n",
    "#               precision    recall  f1-score   support\n",
    "# \n",
    "#            0       0.47      0.47      0.47       207\n",
    "#            1       0.52      0.52      0.52       229\n",
    "# \n",
    "#     accuracy                           0.50       436\n",
    "#    macro avg       0.50      0.50      0.50       436\n",
    "# weighted avg       0.50      0.50      0.50       436\n",
    "# \n",
    "# Tuned parameters yield 2.0% increase in accuracy, use default params\n",
    "xgb_clf = xgb(eta=0.4076112303531503, gamma=0.18791980100903388, max_depth=1, min_child_weight=1, n_estimators=120, subsample=0.8254396401182723, random_state=42)\n",
    "apply_XGB(xgb_clf, X_train_one, y_train_one, X_test_one, y_test_one)"
   ]
  },
  {
   "cell_type": "code",
   "execution_count": 388,
   "metadata": {},
   "outputs": [
    {
     "data": {
      "text/html": [
       "<style>#sk-container-id-228 {color: black;}#sk-container-id-228 pre{padding: 0;}#sk-container-id-228 div.sk-toggleable {background-color: white;}#sk-container-id-228 label.sk-toggleable__label {cursor: pointer;display: block;width: 100%;margin-bottom: 0;padding: 0.3em;box-sizing: border-box;text-align: center;}#sk-container-id-228 label.sk-toggleable__label-arrow:before {content: \"▸\";float: left;margin-right: 0.25em;color: #696969;}#sk-container-id-228 label.sk-toggleable__label-arrow:hover:before {color: black;}#sk-container-id-228 div.sk-estimator:hover label.sk-toggleable__label-arrow:before {color: black;}#sk-container-id-228 div.sk-toggleable__content {max-height: 0;max-width: 0;overflow: hidden;text-align: left;background-color: #f0f8ff;}#sk-container-id-228 div.sk-toggleable__content pre {margin: 0.2em;color: black;border-radius: 0.25em;background-color: #f0f8ff;}#sk-container-id-228 input.sk-toggleable__control:checked~div.sk-toggleable__content {max-height: 200px;max-width: 100%;overflow: auto;}#sk-container-id-228 input.sk-toggleable__control:checked~label.sk-toggleable__label-arrow:before {content: \"▾\";}#sk-container-id-228 div.sk-estimator input.sk-toggleable__control:checked~label.sk-toggleable__label {background-color: #d4ebff;}#sk-container-id-228 div.sk-label input.sk-toggleable__control:checked~label.sk-toggleable__label {background-color: #d4ebff;}#sk-container-id-228 input.sk-hidden--visually {border: 0;clip: rect(1px 1px 1px 1px);clip: rect(1px, 1px, 1px, 1px);height: 1px;margin: -1px;overflow: hidden;padding: 0;position: absolute;width: 1px;}#sk-container-id-228 div.sk-estimator {font-family: monospace;background-color: #f0f8ff;border: 1px dotted black;border-radius: 0.25em;box-sizing: border-box;margin-bottom: 0.5em;}#sk-container-id-228 div.sk-estimator:hover {background-color: #d4ebff;}#sk-container-id-228 div.sk-parallel-item::after {content: \"\";width: 100%;border-bottom: 1px solid gray;flex-grow: 1;}#sk-container-id-228 div.sk-label:hover label.sk-toggleable__label {background-color: #d4ebff;}#sk-container-id-228 div.sk-serial::before {content: \"\";position: absolute;border-left: 1px solid gray;box-sizing: border-box;top: 0;bottom: 0;left: 50%;z-index: 0;}#sk-container-id-228 div.sk-serial {display: flex;flex-direction: column;align-items: center;background-color: white;padding-right: 0.2em;padding-left: 0.2em;position: relative;}#sk-container-id-228 div.sk-item {position: relative;z-index: 1;}#sk-container-id-228 div.sk-parallel {display: flex;align-items: stretch;justify-content: center;background-color: white;position: relative;}#sk-container-id-228 div.sk-item::before, #sk-container-id-228 div.sk-parallel-item::before {content: \"\";position: absolute;border-left: 1px solid gray;box-sizing: border-box;top: 0;bottom: 0;left: 50%;z-index: -1;}#sk-container-id-228 div.sk-parallel-item {display: flex;flex-direction: column;z-index: 1;position: relative;background-color: white;}#sk-container-id-228 div.sk-parallel-item:first-child::after {align-self: flex-end;width: 50%;}#sk-container-id-228 div.sk-parallel-item:last-child::after {align-self: flex-start;width: 50%;}#sk-container-id-228 div.sk-parallel-item:only-child::after {width: 0;}#sk-container-id-228 div.sk-dashed-wrapped {border: 1px dashed gray;margin: 0 0.4em 0.5em 0.4em;box-sizing: border-box;padding-bottom: 0.4em;background-color: white;}#sk-container-id-228 div.sk-label label {font-family: monospace;font-weight: bold;display: inline-block;line-height: 1.2em;}#sk-container-id-228 div.sk-label-container {text-align: center;}#sk-container-id-228 div.sk-container {/* jupyter's `normalize.less` sets `[hidden] { display: none; }` but bootstrap.min.css set `[hidden] { display: none !important; }` so we also need the `!important` here to be able to override the default hidden behavior on the sphinx rendered scikit-learn.org. See: https://github.com/scikit-learn/scikit-learn/issues/21755 */display: inline-block !important;position: relative;}#sk-container-id-228 div.sk-text-repr-fallback {display: none;}</style><div id=\"sk-container-id-228\" class=\"sk-top-container\"><div class=\"sk-text-repr-fallback\"><pre>XGBClassifier(base_score=None, booster=None, callbacks=None,\n",
       "              colsample_bylevel=None, colsample_bynode=None,\n",
       "              colsample_bytree=None, device=None, early_stopping_rounds=None,\n",
       "              enable_categorical=False, eta=0.15225695434966804,\n",
       "              eval_metric=None, feature_types=None, gamma=0.24120056438052023,\n",
       "              grow_policy=None, importance_type=None,\n",
       "              interaction_constraints=None, learning_rate=None, max_bin=None,\n",
       "              max_cat_threshold=None, max_cat_to_onehot=None,\n",
       "              max_delta_step=None, max_depth=1, max_leaves=None,\n",
       "              min_child_weight=1, missing=nan, monotone_constraints=None,\n",
       "              multi_strategy=None, n_estimators=100, n_jobs=None,\n",
       "              num_parallel_tree=None, ...)</pre><b>In a Jupyter environment, please rerun this cell to show the HTML representation or trust the notebook. <br />On GitHub, the HTML representation is unable to render, please try loading this page with nbviewer.org.</b></div><div class=\"sk-container\" hidden><div class=\"sk-item\"><div class=\"sk-estimator sk-toggleable\"><input class=\"sk-toggleable__control sk-hidden--visually\" id=\"sk-estimator-id-228\" type=\"checkbox\" checked><label for=\"sk-estimator-id-228\" class=\"sk-toggleable__label sk-toggleable__label-arrow\">XGBClassifier</label><div class=\"sk-toggleable__content\"><pre>XGBClassifier(base_score=None, booster=None, callbacks=None,\n",
       "              colsample_bylevel=None, colsample_bynode=None,\n",
       "              colsample_bytree=None, device=None, early_stopping_rounds=None,\n",
       "              enable_categorical=False, eta=0.15225695434966804,\n",
       "              eval_metric=None, feature_types=None, gamma=0.24120056438052023,\n",
       "              grow_policy=None, importance_type=None,\n",
       "              interaction_constraints=None, learning_rate=None, max_bin=None,\n",
       "              max_cat_threshold=None, max_cat_to_onehot=None,\n",
       "              max_delta_step=None, max_depth=1, max_leaves=None,\n",
       "              min_child_weight=1, missing=nan, monotone_constraints=None,\n",
       "              multi_strategy=None, n_estimators=100, n_jobs=None,\n",
       "              num_parallel_tree=None, ...)</pre></div></div></div></div></div>"
      ],
      "text/plain": [
       "XGBClassifier(base_score=None, booster=None, callbacks=None,\n",
       "              colsample_bylevel=None, colsample_bynode=None,\n",
       "              colsample_bytree=None, device=None, early_stopping_rounds=None,\n",
       "              enable_categorical=False, eta=0.15225695434966804,\n",
       "              eval_metric=None, feature_types=None, gamma=0.24120056438052023,\n",
       "              grow_policy=None, importance_type=None,\n",
       "              interaction_constraints=None, learning_rate=None, max_bin=None,\n",
       "              max_cat_threshold=None, max_cat_to_onehot=None,\n",
       "              max_delta_step=None, max_depth=1, max_leaves=None,\n",
       "              min_child_weight=1, missing=nan, monotone_constraints=None,\n",
       "              multi_strategy=None, n_estimators=100, n_jobs=None,\n",
       "              num_parallel_tree=None, ...)"
      ]
     },
     "metadata": {},
     "output_type": "display_data"
    },
    {
     "data": {
      "image/png": "[encoded data removed]",
      "text/plain": [
       "<Figure size 640x480 with 2 Axes>"
      ]
     },
     "metadata": {},
     "output_type": "display_data"
    },
    {
     "name": "stdout",
     "output_type": "stream",
     "text": [
      "              precision    recall  f1-score   support\n",
      "\n",
      "           0       0.67      0.68      0.68        76\n",
      "           1       0.93      0.93      0.93       360\n",
      "\n",
      "    accuracy                           0.89       436\n",
      "   macro avg       0.80      0.81      0.80       436\n",
      "weighted avg       0.89      0.89      0.89       436\n",
      "\n"
     ]
    }
   ],
   "source": [
    "# Before tuning\n",
    "#               precision    recall  f1-score   support\n",
    "# \n",
    "#            0       0.64      0.61      0.62        76\n",
    "#            1       0.92      0.93      0.92       360\n",
    "# \n",
    "#     accuracy                           0.87       436\n",
    "#    macro avg       0.78      0.77      0.77       436\n",
    "# weighted avg       0.87      0.87      0.87       436\n",
    "# \n",
    "# Tuned parameters yield 2.3% increase in accuracy\n",
    "xgb_clf = xgb(eta= 0.15225695434966804, gamma=0.24120056438052023, max_depth=1, min_child_weight=1, n_estimators=100, subsample=0.7065883227831513, random_state=42)\n",
    "apply_XGB(xgb_clf, X_train_two, y_train_two, X_test_two, y_test_two)"
   ]
  }
 ],
 "metadata": {
  "kernelspec": {
   "display_name": "Python 3",
   "language": "python",
   "name": "python3"
  },
  "language_info": {
   "codemirror_mode": {
    "name": "ipython",
    "version": 3
   },
   "file_extension": ".py",
   "mimetype": "text/x-python",
   "name": "python",
   "nbconvert_exporter": "python",
   "pygments_lexer": "ipython3",
   "version": "3.11.0"
  }
 },
 "nbformat": 4,
 "nbformat_minor": 2
}
